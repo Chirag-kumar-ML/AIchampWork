{
  "nbformat": 4,
  "nbformat_minor": 0,
  "metadata": {
    "kernelspec": {
      "display_name": "Python 3",
      "language": "python",
      "name": "python3"
    },
    "language_info": {
      "codemirror_mode": {
        "name": "ipython",
        "version": 3
      },
      "file_extension": ".py",
      "mimetype": "text/x-python",
      "name": "python",
      "nbconvert_exporter": "python",
      "pygments_lexer": "ipython3",
      "version": "3.7.9"
    },
    "colab": {
      "name": "CatVsDog_classification.ipynb",
      "provenance": []
    },
    "accelerator": "GPU"
  },
  "cells": [
    {
      "cell_type": "markdown",
      "metadata": {
        "id": "ALTlvWaHl8JT"
      },
      "source": [
        "This taks is done by dowloading the images from different links"
      ]
    },
    {
      "cell_type": "markdown",
      "metadata": {
        "id": "XoHL6vyxmTC-"
      },
      "source": [
        ""
      ]
    },
    {
      "cell_type": "code",
      "metadata": {
        "id": "-SllBvh2hJA-"
      },
      "source": [
        "dogs_links = pd.read_csv('dogs.csv')"
      ],
      "execution_count": null,
      "outputs": []
    },
    {
      "cell_type": "code",
      "metadata": {
        "id": "sD1SphOfhJBP",
        "outputId": "d0b30e1f-ffda-4d6a-ebc2-3b06e8b7f371"
      },
      "source": [
        "dogs_links.head()"
      ],
      "execution_count": null,
      "outputs": [
        {
          "output_type": "execute_result",
          "data": {
            "text/html": [
              "<div>\n",
              "<style scoped>\n",
              "    .dataframe tbody tr th:only-of-type {\n",
              "        vertical-align: middle;\n",
              "    }\n",
              "\n",
              "    .dataframe tbody tr th {\n",
              "        vertical-align: top;\n",
              "    }\n",
              "\n",
              "    .dataframe thead th {\n",
              "        text-align: right;\n",
              "    }\n",
              "</style>\n",
              "<table border=\"1\" class=\"dataframe\">\n",
              "  <thead>\n",
              "    <tr style=\"text-align: right;\">\n",
              "      <th></th>\n",
              "      <th>Img_URL</th>\n",
              "    </tr>\n",
              "  </thead>\n",
              "  <tbody>\n",
              "    <tr>\n",
              "      <td>0</td>\n",
              "      <td>https://tse4.mm.bing.net/th?id=OIP.n0RsnnQ7iV9...</td>\n",
              "    </tr>\n",
              "    <tr>\n",
              "      <td>1</td>\n",
              "      <td>https://tse2.mm.bing.net/th?id=OIP.L3OEU1xZ4MK...</td>\n",
              "    </tr>\n",
              "    <tr>\n",
              "      <td>2</td>\n",
              "      <td>https://tse1.mm.bing.net/th?id=OIP.QjzoJ_c9Fy9...</td>\n",
              "    </tr>\n",
              "    <tr>\n",
              "      <td>3</td>\n",
              "      <td>https://tse3.mm.bing.net/th?id=OIP.A2orZZ1u2zq...</td>\n",
              "    </tr>\n",
              "    <tr>\n",
              "      <td>4</td>\n",
              "      <td>https://tse3.mm.bing.net/th?id=OIP.jP5dVGDGlW9...</td>\n",
              "    </tr>\n",
              "  </tbody>\n",
              "</table>\n",
              "</div>"
            ],
            "text/plain": [
              "                                             Img_URL\n",
              "0  https://tse4.mm.bing.net/th?id=OIP.n0RsnnQ7iV9...\n",
              "1  https://tse2.mm.bing.net/th?id=OIP.L3OEU1xZ4MK...\n",
              "2  https://tse1.mm.bing.net/th?id=OIP.QjzoJ_c9Fy9...\n",
              "3  https://tse3.mm.bing.net/th?id=OIP.A2orZZ1u2zq...\n",
              "4  https://tse3.mm.bing.net/th?id=OIP.jP5dVGDGlW9..."
            ]
          },
          "metadata": {
            "tags": []
          },
          "execution_count": 5
        }
      ]
    },
    {
      "cell_type": "code",
      "metadata": {
        "id": "dqJ2FAqJhJBf",
        "outputId": "2787aaf0-d703-436a-da19-816779133506"
      },
      "source": [
        "dogs_links.shape"
      ],
      "execution_count": null,
      "outputs": [
        {
          "output_type": "execute_result",
          "data": {
            "text/plain": [
              "(617, 1)"
            ]
          },
          "metadata": {
            "tags": []
          },
          "execution_count": 6
        }
      ]
    },
    {
      "cell_type": "code",
      "metadata": {
        "id": "s6dYwXxDhJBn"
      },
      "source": [
        "for i in range(len(dogs_links)):    \n",
        "    url = dogs_links['Img_URL'][i]\n",
        "    resp = urllib.request.urlopen(url)\n",
        "    image_data = resp.read()\n",
        "    # Open output file in binary mode, write, and close.\n",
        "    f = open(os.getcwd()+'\\\\data\\\\Dogs\\\\'+'dog_'+str(i)+'.jpg','wb')\n",
        "    f.write(image_data)\n",
        "    f.close()"
      ],
      "execution_count": null,
      "outputs": []
    },
    {
      "cell_type": "code",
      "metadata": {
        "id": "3YIxVhaOhJB0"
      },
      "source": [
        "cats_links = pd.read_csv('cats.csv')"
      ],
      "execution_count": null,
      "outputs": []
    },
    {
      "cell_type": "code",
      "metadata": {
        "id": "GAvgfOKAhJCA",
        "outputId": "694bf340-d0ef-4644-83e5-8bd9a3d84b4b"
      },
      "source": [
        "cats_links.head()"
      ],
      "execution_count": null,
      "outputs": [
        {
          "output_type": "execute_result",
          "data": {
            "text/html": [
              "<div>\n",
              "<style scoped>\n",
              "    .dataframe tbody tr th:only-of-type {\n",
              "        vertical-align: middle;\n",
              "    }\n",
              "\n",
              "    .dataframe tbody tr th {\n",
              "        vertical-align: top;\n",
              "    }\n",
              "\n",
              "    .dataframe thead th {\n",
              "        text-align: right;\n",
              "    }\n",
              "</style>\n",
              "<table border=\"1\" class=\"dataframe\">\n",
              "  <thead>\n",
              "    <tr style=\"text-align: right;\">\n",
              "      <th></th>\n",
              "      <th>Img_URL</th>\n",
              "    </tr>\n",
              "  </thead>\n",
              "  <tbody>\n",
              "    <tr>\n",
              "      <td>0</td>\n",
              "      <td>https://tse2.mm.bing.net/th?id=OIP.wuZRvCAWSjd...</td>\n",
              "    </tr>\n",
              "    <tr>\n",
              "      <td>1</td>\n",
              "      <td>https://tse4.mm.bing.net/th?id=OIP.M9tKB5T-cU_...</td>\n",
              "    </tr>\n",
              "    <tr>\n",
              "      <td>2</td>\n",
              "      <td>https://tse3.mm.bing.net/th?id=OIP.iYyPimFLj1_...</td>\n",
              "    </tr>\n",
              "    <tr>\n",
              "      <td>3</td>\n",
              "      <td>https://tse2.mm.bing.net/th?id=OIP.dZ2Q9NSndi9...</td>\n",
              "    </tr>\n",
              "    <tr>\n",
              "      <td>4</td>\n",
              "      <td>https://tse4.mm.bing.net/th?id=OIP.6C8jTceMZG7...</td>\n",
              "    </tr>\n",
              "  </tbody>\n",
              "</table>\n",
              "</div>"
            ],
            "text/plain": [
              "                                             Img_URL\n",
              "0  https://tse2.mm.bing.net/th?id=OIP.wuZRvCAWSjd...\n",
              "1  https://tse4.mm.bing.net/th?id=OIP.M9tKB5T-cU_...\n",
              "2  https://tse3.mm.bing.net/th?id=OIP.iYyPimFLj1_...\n",
              "3  https://tse2.mm.bing.net/th?id=OIP.dZ2Q9NSndi9...\n",
              "4  https://tse4.mm.bing.net/th?id=OIP.6C8jTceMZG7..."
            ]
          },
          "metadata": {
            "tags": []
          },
          "execution_count": 11
        }
      ]
    },
    {
      "cell_type": "code",
      "metadata": {
        "id": "JRrY7CN5hJCT"
      },
      "source": [
        "for i in range(len(cats_links)):    \n",
        "    url_cat = cats_links['Img_URL'][i]\n",
        "    resp = urllib.request.urlopen(url_cat)\n",
        "    image_data = resp.read()\n",
        "    # Open output file in binary mode, write, and close.\n",
        "    f = open(os.getcwd()+'\\\\data\\\\Cats\\\\'+'cat_'+str(i)+'.jpg','wb')\n",
        "    f.write(image_data)\n",
        "    f.close()"
      ],
      "execution_count": null,
      "outputs": []
    },
    {
      "cell_type": "code",
      "metadata": {
        "id": "4aLjMoMfhJCc"
      },
      "source": [
        "import tensorflow as tf\n",
        "import time\n",
        "import keras\n",
        "import random\n",
        "import numpy as np                                \n",
        "import matplotlib.pyplot as plt\n",
        "import seaborn as sns\n",
        "import keras as k\n",
        "from keras.datasets import cifar10\n",
        "from keras.models import Sequential\n",
        "from keras.layers import Dense, Dropout, Flatten\n",
        "from keras.layers import Conv2D, MaxPooling2D, BatchNormalization, GlobalAveragePooling2D\n",
        "from sklearn.preprocessing import LabelBinarizer\n",
        "from keras.optimizers import SGD, Adam\n",
        "from keras.regularizers import l2\n",
        "import h5py\n",
        "import cv2\n",
        "import os\n",
        "from keras.models import load_model\n",
        "from keras.preprocessing.image import ImageDataGenerator,load_img"
      ],
      "execution_count": 2,
      "outputs": []
    },
    {
      "cell_type": "code",
      "metadata": {
        "id": "BccvrHhAuisX",
        "outputId": "10804d46-656a-4ab1-ea3e-2bec2a30a4b0",
        "colab": {
          "base_uri": "https://localhost:8080/",
          "height": 35
        }
      },
      "source": [
        "from google.colab import drive\n",
        "drive.mount('/content/drive')"
      ],
      "execution_count": 3,
      "outputs": [
        {
          "output_type": "stream",
          "text": [
            "Mounted at /content/drive\n"
          ],
          "name": "stdout"
        }
      ]
    },
    {
      "cell_type": "code",
      "metadata": {
        "id": "4HT-DsybhJCk",
        "outputId": "48da1f61-56ed-4d0d-e59c-643db796c1b6",
        "colab": {
          "base_uri": "https://localhost:8080/",
          "height": 53
        }
      },
      "source": [
        "from tensorflow.keras.preprocessing.image import ImageDataGenerator\n",
        "train_datagen = ImageDataGenerator(rescale=1./255,\n",
        "                                   shear_range=0.1,\n",
        "                                   zoom_range=0.1,\n",
        "                                   horizontal_flip=True)\n",
        "test_datagen = ImageDataGenerator(rescale=1./255)\n",
        "\n",
        "#Training Set\n",
        "train_set = train_datagen.flow_from_directory(directory=r\"/content/drive/My Drive/train/\",\n",
        "                                             target_size=(64,64),\n",
        "                                             batch_size=32,\n",
        "                                             class_mode='binary',\n",
        "                                             shuffle=True,\n",
        "                                             color_mode=\"rgb\")\n",
        "#Validation\n",
        "test_set = test_datagen.flow_from_directory('/content/drive/My Drive/test/',\n",
        "                                           target_size=(64,64),\n",
        "                                           batch_size = 7,\n",
        "                                           class_mode='binary',\n",
        "                                           shuffle=False)\n",
        "#print(train_generator.class_indices)"
      ],
      "execution_count": 21,
      "outputs": [
        {
          "output_type": "stream",
          "text": [
            "Found 1371 images belonging to 2 classes.\n",
            "Found 40 images belonging to 2 classes.\n"
          ],
          "name": "stdout"
        }
      ]
    },
    {
      "cell_type": "code",
      "metadata": {
        "id": "Z4JVU2FK-bWm",
        "outputId": "f29b16a6-8027-4381-dc6f-7cf4dde690be",
        "colab": {
          "base_uri": "https://localhost:8080/",
          "height": 53
        }
      },
      "source": [
        "from tensorflow.keras.applications.resnet50 import ResNet50, preprocess_input\n",
        "conv_base= ResNet50(weights='imagenet', include_top=False, input_shape=(200, 200, 3))"
      ],
      "execution_count": 5,
      "outputs": [
        {
          "output_type": "stream",
          "text": [
            "Downloading data from https://storage.googleapis.com/tensorflow/keras-applications/resnet/resnet50_weights_tf_dim_ordering_tf_kernels_notop.h5\n",
            "94773248/94765736 [==============================] - 1s 0us/step\n"
          ],
          "name": "stdout"
        }
      ]
    },
    {
      "cell_type": "code",
      "metadata": {
        "id": "pJc4EDGX_er_"
      },
      "source": [
        "from tensorflow.keras import models\n",
        "from tensorflow.keras import layers\n",
        "from tensorflow.keras import optimizers"
      ],
      "execution_count": 6,
      "outputs": []
    },
    {
      "cell_type": "code",
      "metadata": {
        "id": "6YMF9kNhhJCv"
      },
      "source": [
        ""
      ],
      "execution_count": 16,
      "outputs": []
    },
    {
      "cell_type": "code",
      "metadata": {
        "id": "zhU32NZbBZpg"
      },
      "source": [
        "#model.summary()"
      ],
      "execution_count": 18,
      "outputs": []
    },
    {
      "cell_type": "code",
      "metadata": {
        "id": "CpL-_sNFATSh"
      },
      "source": [
        "#conv_base = ResNet50(weights='imagenet', include_top=False, input_shape=(200, 200, 3))"
      ],
      "execution_count": 19,
      "outputs": []
    },
    {
      "cell_type": "code",
      "metadata": {
        "id": "11ubAUDFByNh"
      },
      "source": [
        "model = Sequential()\n",
        "\n",
        "model.add(Conv2D(32,(3,3),input_shape=(64,64,3),activation = 'relu'))\n",
        "model.add(MaxPooling2D(pool_size=(2,2),strides=2)) #if stride not given it equal to pool filter size\n",
        "\n",
        "model.add(Conv2D(32,(3,3),activation = 'relu'))\n",
        "model.add(MaxPooling2D(pool_size=(2,2),strides=2))\n",
        "\n",
        "model.add(Conv2D(64, (3, 3), activation='relu'))\n",
        "model.add(BatchNormalization())\n",
        "model.add(MaxPooling2D(pool_size=(2, 2),strides=2))\n",
        "model.add(Dropout(0.25))\n",
        "\n",
        "model.add(Flatten())\n",
        "model.add(Dense(units=128,activation='relu'))\n",
        "model.add(Dense(units=1,activation='sigmoid'))\n",
        "\n",
        "adam = keras.optimizers.Adam(lr=0.0001, beta_1=0.9, beta_2=0.999, epsilon=None, decay=0.0, amsgrad=False)\n",
        "\n",
        "model.compile(optimizer=adam,loss='binary_crossentropy',metrics=['accuracy'])"
      ],
      "execution_count": 33,
      "outputs": []
    },
    {
      "cell_type": "code",
      "metadata": {
        "id": "mGfSHq7xB_yo",
        "outputId": "1e6f784d-8bf1-4cf4-8529-ee2ef040aa87",
        "colab": {
          "base_uri": "https://localhost:8080/",
          "height": 750
        }
      },
      "source": [
        "model.fit_generator(train_set, \n",
        "                        epochs = 20,\n",
        "                        validation_data = train_set,\n",
        "                        )"
      ],
      "execution_count": 35,
      "outputs": [
        {
          "output_type": "stream",
          "text": [
            "Epoch 1/20\n",
            "43/43 [==============================] - 105s 2s/step - loss: 0.7356 - accuracy: 0.5558 - val_loss: 0.7030 - val_accuracy: 0.4406\n",
            "Epoch 2/20\n",
            "43/43 [==============================] - 10s 236ms/step - loss: 0.6824 - accuracy: 0.6018 - val_loss: 0.6922 - val_accuracy: 0.4807\n",
            "Epoch 3/20\n",
            "43/43 [==============================] - 11s 251ms/step - loss: 0.6437 - accuracy: 0.6331 - val_loss: 0.6785 - val_accuracy: 0.6637\n",
            "Epoch 4/20\n",
            "43/43 [==============================] - 10s 234ms/step - loss: 0.6279 - accuracy: 0.6521 - val_loss: 0.6716 - val_accuracy: 0.6871\n",
            "Epoch 5/20\n",
            "43/43 [==============================] - 10s 238ms/step - loss: 0.5997 - accuracy: 0.6769 - val_loss: 0.6646 - val_accuracy: 0.6878\n",
            "Epoch 6/20\n",
            "43/43 [==============================] - 10s 238ms/step - loss: 0.5908 - accuracy: 0.7002 - val_loss: 0.6546 - val_accuracy: 0.7017\n",
            "Epoch 7/20\n",
            "43/43 [==============================] - 10s 239ms/step - loss: 0.5877 - accuracy: 0.6944 - val_loss: 0.6450 - val_accuracy: 0.6769\n",
            "Epoch 8/20\n",
            "43/43 [==============================] - 10s 239ms/step - loss: 0.5634 - accuracy: 0.7068 - val_loss: 0.6260 - val_accuracy: 0.7031\n",
            "Epoch 9/20\n",
            "43/43 [==============================] - 10s 239ms/step - loss: 0.5512 - accuracy: 0.7126 - val_loss: 0.6177 - val_accuracy: 0.7119\n",
            "Epoch 10/20\n",
            "43/43 [==============================] - 10s 244ms/step - loss: 0.5321 - accuracy: 0.7374 - val_loss: 0.5964 - val_accuracy: 0.7360\n",
            "Epoch 11/20\n",
            "43/43 [==============================] - 11s 264ms/step - loss: 0.5295 - accuracy: 0.7381 - val_loss: 0.5628 - val_accuracy: 0.7746\n",
            "Epoch 12/20\n",
            "43/43 [==============================] - 10s 238ms/step - loss: 0.5036 - accuracy: 0.7644 - val_loss: 0.5406 - val_accuracy: 0.7425\n",
            "Epoch 13/20\n",
            "43/43 [==============================] - 10s 234ms/step - loss: 0.4976 - accuracy: 0.7593 - val_loss: 0.5097 - val_accuracy: 0.7899\n",
            "Epoch 14/20\n",
            "43/43 [==============================] - 10s 232ms/step - loss: 0.4776 - accuracy: 0.7753 - val_loss: 0.4776 - val_accuracy: 0.8074\n",
            "Epoch 15/20\n",
            "43/43 [==============================] - 10s 233ms/step - loss: 0.4815 - accuracy: 0.7622 - val_loss: 0.4881 - val_accuracy: 0.7797\n",
            "Epoch 16/20\n",
            "43/43 [==============================] - 10s 234ms/step - loss: 0.4585 - accuracy: 0.7739 - val_loss: 0.4619 - val_accuracy: 0.7972\n",
            "Epoch 17/20\n",
            "43/43 [==============================] - 10s 234ms/step - loss: 0.4486 - accuracy: 0.7994 - val_loss: 0.4286 - val_accuracy: 0.8213\n",
            "Epoch 18/20\n",
            "43/43 [==============================] - 10s 234ms/step - loss: 0.4348 - accuracy: 0.8016 - val_loss: 0.4512 - val_accuracy: 0.7615\n",
            "Epoch 19/20\n",
            "43/43 [==============================] - 10s 234ms/step - loss: 0.4122 - accuracy: 0.8118 - val_loss: 0.5817 - val_accuracy: 0.6783\n",
            "Epoch 20/20\n",
            "43/43 [==============================] - 10s 236ms/step - loss: 0.4137 - accuracy: 0.8249 - val_loss: 0.3603 - val_accuracy: 0.8636\n"
          ],
          "name": "stdout"
        },
        {
          "output_type": "execute_result",
          "data": {
            "text/plain": [
              "<tensorflow.python.keras.callbacks.History at 0x7fe0a46cb908>"
            ]
          },
          "metadata": {
            "tags": []
          },
          "execution_count": 35
        }
      ]
    },
    {
      "cell_type": "code",
      "metadata": {
        "id": "nymEG2SsFlnr",
        "outputId": "2e6ab6b3-bccd-4b95-bf7b-1e2aef4380a0",
        "colab": {
          "base_uri": "https://localhost:8080/",
          "height": 126
        }
      },
      "source": [
        "print('Cats and Dogs Image Classification Training Model Accuracy : ')\n",
        "print(model.evaluate_generator(generator=train_set))"
      ],
      "execution_count": 36,
      "outputs": [
        {
          "output_type": "stream",
          "text": [
            "Cats and Dogs Image Classification Training Model Accuracy : \n",
            "WARNING:tensorflow:From <ipython-input-36-9f24fda15b86>:2: Model.evaluate_generator (from tensorflow.python.keras.engine.training) is deprecated and will be removed in a future version.\n",
            "Instructions for updating:\n",
            "Please use Model.evaluate, which supports generators.\n",
            "[0.35184013843536377, 0.8679795861244202]\n"
          ],
          "name": "stdout"
        }
      ]
    },
    {
      "cell_type": "code",
      "metadata": {
        "id": "Jyk6I7BJFt5Q",
        "outputId": "3c84fd6d-cbb7-4590-e215-581c832ff096",
        "colab": {
          "base_uri": "https://localhost:8080/",
          "height": 53
        }
      },
      "source": [
        "print('Cats and Dogs Image Classification Testing Model Accuracy : ')\n",
        "print(model.evaluate_generator(generator=test_set))"
      ],
      "execution_count": 37,
      "outputs": [
        {
          "output_type": "stream",
          "text": [
            "Cats and Dogs Image Classification Testing Model Accuracy : \n",
            "[0.47185149788856506, 0.75]\n"
          ],
          "name": "stdout"
        }
      ]
    },
    {
      "cell_type": "code",
      "metadata": {
        "id": "usIiNnqxF9-r",
        "outputId": "9191a3f8-e031-47c1-855c-ed9d5b289720",
        "colab": {
          "base_uri": "https://localhost:8080/",
          "height": 260
        }
      },
      "source": [
        "import pandas as pd\n",
        "test_set.reset\n",
        "ytesthat = model.predict_generator(test_set)\n",
        "df = pd.DataFrame({\n",
        "    'filename':test_set.filenames,\n",
        "    'predict':ytesthat[:,0],\n",
        "    'y':test_set.classes\n",
        "})\n",
        "df.head()"
      ],
      "execution_count": 39,
      "outputs": [
        {
          "output_type": "stream",
          "text": [
            "WARNING:tensorflow:From <ipython-input-39-d6289a2c7381>:3: Model.predict_generator (from tensorflow.python.keras.engine.training) is deprecated and will be removed in a future version.\n",
            "Instructions for updating:\n",
            "Please use Model.predict, which supports generators.\n"
          ],
          "name": "stdout"
        },
        {
          "output_type": "execute_result",
          "data": {
            "text/html": [
              "<div>\n",
              "<style scoped>\n",
              "    .dataframe tbody tr th:only-of-type {\n",
              "        vertical-align: middle;\n",
              "    }\n",
              "\n",
              "    .dataframe tbody tr th {\n",
              "        vertical-align: top;\n",
              "    }\n",
              "\n",
              "    .dataframe thead th {\n",
              "        text-align: right;\n",
              "    }\n",
              "</style>\n",
              "<table border=\"1\" class=\"dataframe\">\n",
              "  <thead>\n",
              "    <tr style=\"text-align: right;\">\n",
              "      <th></th>\n",
              "      <th>filename</th>\n",
              "      <th>predict</th>\n",
              "      <th>y</th>\n",
              "    </tr>\n",
              "  </thead>\n",
              "  <tbody>\n",
              "    <tr>\n",
              "      <th>0</th>\n",
              "      <td>Cats/cat_010.jpg</td>\n",
              "      <td>0.086404</td>\n",
              "      <td>0</td>\n",
              "    </tr>\n",
              "    <tr>\n",
              "      <th>1</th>\n",
              "      <td>Cats/cat_013.jpg</td>\n",
              "      <td>0.282790</td>\n",
              "      <td>0</td>\n",
              "    </tr>\n",
              "    <tr>\n",
              "      <th>2</th>\n",
              "      <td>Cats/cat_045.jpg</td>\n",
              "      <td>0.599150</td>\n",
              "      <td>0</td>\n",
              "    </tr>\n",
              "    <tr>\n",
              "      <th>3</th>\n",
              "      <td>Cats/cat_100.jpg</td>\n",
              "      <td>0.537077</td>\n",
              "      <td>0</td>\n",
              "    </tr>\n",
              "    <tr>\n",
              "      <th>4</th>\n",
              "      <td>Cats/cat_101.jpg</td>\n",
              "      <td>0.633122</td>\n",
              "      <td>0</td>\n",
              "    </tr>\n",
              "  </tbody>\n",
              "</table>\n",
              "</div>"
            ],
            "text/plain": [
              "           filename   predict  y\n",
              "0  Cats/cat_010.jpg  0.086404  0\n",
              "1  Cats/cat_013.jpg  0.282790  0\n",
              "2  Cats/cat_045.jpg  0.599150  0\n",
              "3  Cats/cat_100.jpg  0.537077  0\n",
              "4  Cats/cat_101.jpg  0.633122  0"
            ]
          },
          "metadata": {
            "tags": []
          },
          "execution_count": 39
        }
      ]
    },
    {
      "cell_type": "code",
      "metadata": {
        "id": "dH8rwZDyGSIk",
        "outputId": "f678ed2f-ac6f-495f-a517-99d3df24ddcc",
        "colab": {
          "base_uri": "https://localhost:8080/",
          "height": 1000
        }
      },
      "source": [
        "df['y_pred'] = df['predict']>0.5\n",
        "df.y_pred = df.y_pred.astype(int)\n",
        "df#.head(10)"
      ],
      "execution_count": 42,
      "outputs": [
        {
          "output_type": "execute_result",
          "data": {
            "text/html": [
              "<div>\n",
              "<style scoped>\n",
              "    .dataframe tbody tr th:only-of-type {\n",
              "        vertical-align: middle;\n",
              "    }\n",
              "\n",
              "    .dataframe tbody tr th {\n",
              "        vertical-align: top;\n",
              "    }\n",
              "\n",
              "    .dataframe thead th {\n",
              "        text-align: right;\n",
              "    }\n",
              "</style>\n",
              "<table border=\"1\" class=\"dataframe\">\n",
              "  <thead>\n",
              "    <tr style=\"text-align: right;\">\n",
              "      <th></th>\n",
              "      <th>filename</th>\n",
              "      <th>predict</th>\n",
              "      <th>y</th>\n",
              "      <th>y_pred</th>\n",
              "    </tr>\n",
              "  </thead>\n",
              "  <tbody>\n",
              "    <tr>\n",
              "      <th>0</th>\n",
              "      <td>Cats/cat_010.jpg</td>\n",
              "      <td>0.086404</td>\n",
              "      <td>0</td>\n",
              "      <td>0</td>\n",
              "    </tr>\n",
              "    <tr>\n",
              "      <th>1</th>\n",
              "      <td>Cats/cat_013.jpg</td>\n",
              "      <td>0.282790</td>\n",
              "      <td>0</td>\n",
              "      <td>0</td>\n",
              "    </tr>\n",
              "    <tr>\n",
              "      <th>2</th>\n",
              "      <td>Cats/cat_045.jpg</td>\n",
              "      <td>0.599150</td>\n",
              "      <td>0</td>\n",
              "      <td>1</td>\n",
              "    </tr>\n",
              "    <tr>\n",
              "      <th>3</th>\n",
              "      <td>Cats/cat_100.jpg</td>\n",
              "      <td>0.537077</td>\n",
              "      <td>0</td>\n",
              "      <td>1</td>\n",
              "    </tr>\n",
              "    <tr>\n",
              "      <th>4</th>\n",
              "      <td>Cats/cat_101.jpg</td>\n",
              "      <td>0.633122</td>\n",
              "      <td>0</td>\n",
              "      <td>1</td>\n",
              "    </tr>\n",
              "    <tr>\n",
              "      <th>5</th>\n",
              "      <td>Cats/cat_102.jpg</td>\n",
              "      <td>0.499697</td>\n",
              "      <td>0</td>\n",
              "      <td>0</td>\n",
              "    </tr>\n",
              "    <tr>\n",
              "      <th>6</th>\n",
              "      <td>Cats/cat_103.jpg</td>\n",
              "      <td>0.431036</td>\n",
              "      <td>0</td>\n",
              "      <td>0</td>\n",
              "    </tr>\n",
              "    <tr>\n",
              "      <th>7</th>\n",
              "      <td>Cats/cat_104.jpg</td>\n",
              "      <td>0.082141</td>\n",
              "      <td>0</td>\n",
              "      <td>0</td>\n",
              "    </tr>\n",
              "    <tr>\n",
              "      <th>8</th>\n",
              "      <td>Cats/cat_105.jpg</td>\n",
              "      <td>0.076953</td>\n",
              "      <td>0</td>\n",
              "      <td>0</td>\n",
              "    </tr>\n",
              "    <tr>\n",
              "      <th>9</th>\n",
              "      <td>Cats/cat_106.jpg</td>\n",
              "      <td>0.646956</td>\n",
              "      <td>0</td>\n",
              "      <td>1</td>\n",
              "    </tr>\n",
              "    <tr>\n",
              "      <th>10</th>\n",
              "      <td>Cats/cat_107 (1).jpg</td>\n",
              "      <td>0.483124</td>\n",
              "      <td>0</td>\n",
              "      <td>0</td>\n",
              "    </tr>\n",
              "    <tr>\n",
              "      <th>11</th>\n",
              "      <td>Cats/cat_107.jpg</td>\n",
              "      <td>0.483124</td>\n",
              "      <td>0</td>\n",
              "      <td>0</td>\n",
              "    </tr>\n",
              "    <tr>\n",
              "      <th>12</th>\n",
              "      <td>Cats/cat_108 (1).jpg</td>\n",
              "      <td>0.534469</td>\n",
              "      <td>0</td>\n",
              "      <td>1</td>\n",
              "    </tr>\n",
              "    <tr>\n",
              "      <th>13</th>\n",
              "      <td>Cats/cat_108.jpg</td>\n",
              "      <td>0.534469</td>\n",
              "      <td>0</td>\n",
              "      <td>1</td>\n",
              "    </tr>\n",
              "    <tr>\n",
              "      <th>14</th>\n",
              "      <td>Cats/cat_109 (1).jpg</td>\n",
              "      <td>0.372807</td>\n",
              "      <td>0</td>\n",
              "      <td>0</td>\n",
              "    </tr>\n",
              "    <tr>\n",
              "      <th>15</th>\n",
              "      <td>Cats/cat_109.jpg</td>\n",
              "      <td>0.372807</td>\n",
              "      <td>0</td>\n",
              "      <td>0</td>\n",
              "    </tr>\n",
              "    <tr>\n",
              "      <th>16</th>\n",
              "      <td>Cats/cat_11 (1).jpg</td>\n",
              "      <td>0.330007</td>\n",
              "      <td>0</td>\n",
              "      <td>0</td>\n",
              "    </tr>\n",
              "    <tr>\n",
              "      <th>17</th>\n",
              "      <td>Cats/cat_11.jpg</td>\n",
              "      <td>0.330007</td>\n",
              "      <td>0</td>\n",
              "      <td>0</td>\n",
              "    </tr>\n",
              "    <tr>\n",
              "      <th>18</th>\n",
              "      <td>Cats/cat_116.jpg</td>\n",
              "      <td>0.861655</td>\n",
              "      <td>0</td>\n",
              "      <td>1</td>\n",
              "    </tr>\n",
              "    <tr>\n",
              "      <th>19</th>\n",
              "      <td>Dogs/dog_009.jpg</td>\n",
              "      <td>0.959696</td>\n",
              "      <td>1</td>\n",
              "      <td>1</td>\n",
              "    </tr>\n",
              "    <tr>\n",
              "      <th>20</th>\n",
              "      <td>Dogs/dog_010.jpg</td>\n",
              "      <td>0.435437</td>\n",
              "      <td>1</td>\n",
              "      <td>0</td>\n",
              "    </tr>\n",
              "    <tr>\n",
              "      <th>21</th>\n",
              "      <td>Dogs/dog_018.jpg</td>\n",
              "      <td>0.929679</td>\n",
              "      <td>1</td>\n",
              "      <td>1</td>\n",
              "    </tr>\n",
              "    <tr>\n",
              "      <th>22</th>\n",
              "      <td>Dogs/dog_019.jpg</td>\n",
              "      <td>0.811042</td>\n",
              "      <td>1</td>\n",
              "      <td>1</td>\n",
              "    </tr>\n",
              "    <tr>\n",
              "      <th>23</th>\n",
              "      <td>Dogs/dog_100.jpg</td>\n",
              "      <td>0.930314</td>\n",
              "      <td>1</td>\n",
              "      <td>1</td>\n",
              "    </tr>\n",
              "    <tr>\n",
              "      <th>24</th>\n",
              "      <td>Dogs/dog_101.jpg</td>\n",
              "      <td>0.659264</td>\n",
              "      <td>1</td>\n",
              "      <td>1</td>\n",
              "    </tr>\n",
              "    <tr>\n",
              "      <th>25</th>\n",
              "      <td>Dogs/dog_102.jpg</td>\n",
              "      <td>0.898258</td>\n",
              "      <td>1</td>\n",
              "      <td>1</td>\n",
              "    </tr>\n",
              "    <tr>\n",
              "      <th>26</th>\n",
              "      <td>Dogs/dog_103.jpg</td>\n",
              "      <td>0.649983</td>\n",
              "      <td>1</td>\n",
              "      <td>1</td>\n",
              "    </tr>\n",
              "    <tr>\n",
              "      <th>27</th>\n",
              "      <td>Dogs/dog_104.jpg</td>\n",
              "      <td>0.594164</td>\n",
              "      <td>1</td>\n",
              "      <td>1</td>\n",
              "    </tr>\n",
              "    <tr>\n",
              "      <th>28</th>\n",
              "      <td>Dogs/dog_105.jpg</td>\n",
              "      <td>0.315077</td>\n",
              "      <td>1</td>\n",
              "      <td>0</td>\n",
              "    </tr>\n",
              "    <tr>\n",
              "      <th>29</th>\n",
              "      <td>Dogs/dog_106.jpg</td>\n",
              "      <td>0.715778</td>\n",
              "      <td>1</td>\n",
              "      <td>1</td>\n",
              "    </tr>\n",
              "    <tr>\n",
              "      <th>30</th>\n",
              "      <td>Dogs/dog_107.jpg</td>\n",
              "      <td>0.993387</td>\n",
              "      <td>1</td>\n",
              "      <td>1</td>\n",
              "    </tr>\n",
              "    <tr>\n",
              "      <th>31</th>\n",
              "      <td>Dogs/dog_108.jpg</td>\n",
              "      <td>0.992543</td>\n",
              "      <td>1</td>\n",
              "      <td>1</td>\n",
              "    </tr>\n",
              "    <tr>\n",
              "      <th>32</th>\n",
              "      <td>Dogs/dog_109.jpg</td>\n",
              "      <td>0.725087</td>\n",
              "      <td>1</td>\n",
              "      <td>1</td>\n",
              "    </tr>\n",
              "    <tr>\n",
              "      <th>33</th>\n",
              "      <td>Dogs/dog_110.jpg</td>\n",
              "      <td>0.752506</td>\n",
              "      <td>1</td>\n",
              "      <td>1</td>\n",
              "    </tr>\n",
              "    <tr>\n",
              "      <th>34</th>\n",
              "      <td>Dogs/dog_111.jpg</td>\n",
              "      <td>0.863707</td>\n",
              "      <td>1</td>\n",
              "      <td>1</td>\n",
              "    </tr>\n",
              "    <tr>\n",
              "      <th>35</th>\n",
              "      <td>Dogs/dog_112.jpg</td>\n",
              "      <td>0.433691</td>\n",
              "      <td>1</td>\n",
              "      <td>0</td>\n",
              "    </tr>\n",
              "    <tr>\n",
              "      <th>36</th>\n",
              "      <td>Dogs/dog_113.jpg</td>\n",
              "      <td>0.868566</td>\n",
              "      <td>1</td>\n",
              "      <td>1</td>\n",
              "    </tr>\n",
              "    <tr>\n",
              "      <th>37</th>\n",
              "      <td>Dogs/dog_114.jpg</td>\n",
              "      <td>0.847430</td>\n",
              "      <td>1</td>\n",
              "      <td>1</td>\n",
              "    </tr>\n",
              "    <tr>\n",
              "      <th>38</th>\n",
              "      <td>Dogs/dog_115.jpg</td>\n",
              "      <td>0.622461</td>\n",
              "      <td>1</td>\n",
              "      <td>1</td>\n",
              "    </tr>\n",
              "    <tr>\n",
              "      <th>39</th>\n",
              "      <td>Dogs/dog_116.jpg</td>\n",
              "      <td>0.847424</td>\n",
              "      <td>1</td>\n",
              "      <td>1</td>\n",
              "    </tr>\n",
              "  </tbody>\n",
              "</table>\n",
              "</div>"
            ],
            "text/plain": [
              "                filename   predict  y  y_pred\n",
              "0       Cats/cat_010.jpg  0.086404  0       0\n",
              "1       Cats/cat_013.jpg  0.282790  0       0\n",
              "2       Cats/cat_045.jpg  0.599150  0       1\n",
              "3       Cats/cat_100.jpg  0.537077  0       1\n",
              "4       Cats/cat_101.jpg  0.633122  0       1\n",
              "5       Cats/cat_102.jpg  0.499697  0       0\n",
              "6       Cats/cat_103.jpg  0.431036  0       0\n",
              "7       Cats/cat_104.jpg  0.082141  0       0\n",
              "8       Cats/cat_105.jpg  0.076953  0       0\n",
              "9       Cats/cat_106.jpg  0.646956  0       1\n",
              "10  Cats/cat_107 (1).jpg  0.483124  0       0\n",
              "11      Cats/cat_107.jpg  0.483124  0       0\n",
              "12  Cats/cat_108 (1).jpg  0.534469  0       1\n",
              "13      Cats/cat_108.jpg  0.534469  0       1\n",
              "14  Cats/cat_109 (1).jpg  0.372807  0       0\n",
              "15      Cats/cat_109.jpg  0.372807  0       0\n",
              "16   Cats/cat_11 (1).jpg  0.330007  0       0\n",
              "17       Cats/cat_11.jpg  0.330007  0       0\n",
              "18      Cats/cat_116.jpg  0.861655  0       1\n",
              "19      Dogs/dog_009.jpg  0.959696  1       1\n",
              "20      Dogs/dog_010.jpg  0.435437  1       0\n",
              "21      Dogs/dog_018.jpg  0.929679  1       1\n",
              "22      Dogs/dog_019.jpg  0.811042  1       1\n",
              "23      Dogs/dog_100.jpg  0.930314  1       1\n",
              "24      Dogs/dog_101.jpg  0.659264  1       1\n",
              "25      Dogs/dog_102.jpg  0.898258  1       1\n",
              "26      Dogs/dog_103.jpg  0.649983  1       1\n",
              "27      Dogs/dog_104.jpg  0.594164  1       1\n",
              "28      Dogs/dog_105.jpg  0.315077  1       0\n",
              "29      Dogs/dog_106.jpg  0.715778  1       1\n",
              "30      Dogs/dog_107.jpg  0.993387  1       1\n",
              "31      Dogs/dog_108.jpg  0.992543  1       1\n",
              "32      Dogs/dog_109.jpg  0.725087  1       1\n",
              "33      Dogs/dog_110.jpg  0.752506  1       1\n",
              "34      Dogs/dog_111.jpg  0.863707  1       1\n",
              "35      Dogs/dog_112.jpg  0.433691  1       0\n",
              "36      Dogs/dog_113.jpg  0.868566  1       1\n",
              "37      Dogs/dog_114.jpg  0.847430  1       1\n",
              "38      Dogs/dog_115.jpg  0.622461  1       1\n",
              "39      Dogs/dog_116.jpg  0.847424  1       1"
            ]
          },
          "metadata": {
            "tags": []
          },
          "execution_count": 42
        }
      ]
    },
    {
      "cell_type": "code",
      "metadata": {
        "id": "_8TKZwCQGdyM",
        "outputId": "be5a76a9-bf05-44a5-c51e-462596f75841",
        "colab": {
          "base_uri": "https://localhost:8080/",
          "height": 588
        }
      },
      "source": [
        "\n",
        "\n",
        "#Prediction of test set\n",
        "from sklearn.metrics import confusion_matrix \n",
        "plt.figure(figsize=(12,8))\n",
        "conf_matrix = confusion_matrix(df.y,df.y_pred)\n",
        "sns.heatmap(conf_matrix,cmap=\"rocket_r\",annot=True,fmt='g');\n",
        "plt.xlabel('predicted value',fontsize=25)\n",
        "plt.ylabel('true value',fontsize=25);\n",
        "plt.xticks([0,1],['Cat','Dog'],fontsize=25)\n",
        "plt.yticks([0,1],['Cat','Dog'],fontsize=25)"
      ],
      "execution_count": 41,
      "outputs": [
        {
          "output_type": "execute_result",
          "data": {
            "text/plain": [
              "([<matplotlib.axis.YTick at 0x7fe0a13d5898>,\n",
              "  <matplotlib.axis.YTick at 0x7fe0a13d5278>],\n",
              " [Text(0, 0.5, 'Cat'), Text(0, 1.5, 'Dog')])"
            ]
          },
          "metadata": {
            "tags": []
          },
          "execution_count": 41
        },
        {
          "output_type": "display_data",
          "data": {
            "image/png": "[encoded data removed]",
            "text/plain": [
              "<Figure size 864x576 with 2 Axes>"
            ]
          },
          "metadata": {
            "tags": [],
            "needs_background": "light"
          }
        }
      ]
    }
  ]
}