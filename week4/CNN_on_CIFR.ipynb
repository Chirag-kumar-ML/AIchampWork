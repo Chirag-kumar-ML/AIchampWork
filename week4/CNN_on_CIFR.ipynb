{
  "nbformat": 4,
  "nbformat_minor": 0,
  "metadata": {
    "kernelspec": {
      "display_name": "Python 3",
      "language": "python",
      "name": "python3"
    },
    "language_info": {
      "codemirror_mode": {
        "name": "ipython",
        "version": 3
      },
      "file_extension": ".py",
      "mimetype": "text/x-python",
      "name": "python",
      "nbconvert_exporter": "python",
      "pygments_lexer": "ipython3",
      "version": "3.7.1"
    },
    "colab": {
      "name": "CNN on CIFR.ipynb",
      "provenance": [],
      "toc_visible": true
    },
    "accelerator": "GPU"
  },
  "cells": [
    {
      "cell_type": "markdown",
      "metadata": {
        "id": "kK3alCdFflQX"
      },
      "source": [
        "### CNN on CIFR:\n"
      ]
    },
    {
      "cell_type": "code",
      "metadata": {
        "id": "TLVcyNYKflQi"
      },
      "source": [
        "from keras.datasets import cifar10\n",
        "from keras.utils import np_utils\n",
        "from keras.models import Sequential\n",
        "from keras.layers.core import Dense, Dropout, Activation, Flatten\n",
        "from keras.layers.convolutional import Conv2D, MaxPooling2D\n",
        "from keras.optimizers import SGD, Adam, RMSprop\n",
        "import matplotlib.pyplot as plt\n",
        "\n",
        "# CIFAR_10 is a set of 60K images 32x32 pixels on 3 channels\n",
        "IMG_CHANNELS = 3\n",
        "IMG_ROWS = 32\n",
        "IMG_COLS = 32\n",
        "\n",
        "#constant\n",
        "BATCH_SIZE = 128\n",
        "NB_EPOCH = 20\n",
        "NB_CLASSES = 10\n",
        "VERBOSE = 1\n",
        "VALIDATION_SPLIT = 0.2\n",
        "OPTIM = RMSprop()\n",
        "\n",
        "#load dataset\n",
        "(X_train, y_train), (X_test, y_test) = cifar10.load_data()\n",
        "print('X_train shape:', X_train.shape)\n",
        "print(X_train.shape[0], 'train samples')\n",
        "print(X_test.shape[0], 'test samples')"
      ],
      "execution_count": 3,
      "outputs": []
    },
    {
      "cell_type": "code",
      "metadata": {
        "id": "N5C47Nb5mgZ4"
      },
      "source": [
        "# convert to categorical\n",
        "Y_train = np_utils.to_categorical(y_train, NB_CLASSES)\n",
        "Y_test = np_utils.to_categorical(y_test, NB_CLASSES)\n",
        "\n",
        "# float and normalization\n",
        "X_train = X_train.astype('float32')\n",
        "X_test = X_test.astype('float32')\n",
        "X_train /= 255\n",
        "X_test /= 255\n"
      ],
      "execution_count": 4,
      "outputs": []
    },
    {
      "cell_type": "code",
      "metadata": {
        "id": "eMTCU43LoeT_"
      },
      "source": [
        "# network\n",
        "model = Sequential()\n",
        "model.add(Conv2D(32, (3, 3), padding='same',\n",
        "input_shape=(IMG_ROWS, IMG_COLS, IMG_CHANNELS)))\n",
        "model.add(Activation('relu'))\n",
        "model.add(MaxPooling2D(pool_size=(2, 2)))\n",
        "model.add(Dropout(0.25))\n"
      ],
      "execution_count": 5,
      "outputs": []
    },
    {
      "cell_type": "code",
      "metadata": {
        "id": "yYmQguxWtv7e",
        "outputId": "ce3c2afc-46a9-4ad3-c6e2-d8d7fc0171a3",
        "colab": {
          "base_uri": "https://localhost:8080/",
          "height": 533
        }
      },
      "source": [
        "model.add(Flatten())\n",
        "model.add(Dense(512))\n",
        "model.add(Activation('relu'))\n",
        "model.add(Dropout(0.5))\n",
        "model.add(Dense(NB_CLASSES))\n",
        "model.add(Activation('softmax'))\n",
        "model.summary()\n"
      ],
      "execution_count": 7,
      "outputs": [
        {
          "output_type": "stream",
          "text": [
            "Model: \"sequential\"\n",
            "_________________________________________________________________\n",
            "Layer (type)                 Output Shape              Param #   \n",
            "=================================================================\n",
            "conv2d (Conv2D)              (None, 32, 32, 32)        896       \n",
            "_________________________________________________________________\n",
            "activation (Activation)      (None, 32, 32, 32)        0         \n",
            "_________________________________________________________________\n",
            "max_pooling2d (MaxPooling2D) (None, 16, 16, 32)        0         \n",
            "_________________________________________________________________\n",
            "dropout (Dropout)            (None, 16, 16, 32)        0         \n",
            "_________________________________________________________________\n",
            "flatten (Flatten)            (None, 8192)              0         \n",
            "_________________________________________________________________\n",
            "dense (Dense)                (None, 512)               4194816   \n",
            "_________________________________________________________________\n",
            "activation_1 (Activation)    (None, 512)               0         \n",
            "_________________________________________________________________\n",
            "dropout_1 (Dropout)          (None, 512)               0         \n",
            "_________________________________________________________________\n",
            "dense_1 (Dense)              (None, 10)                5130      \n",
            "_________________________________________________________________\n",
            "activation_2 (Activation)    (None, 10)                0         \n",
            "=================================================================\n",
            "Total params: 4,200,842\n",
            "Trainable params: 4,200,842\n",
            "Non-trainable params: 0\n",
            "_________________________________________________________________\n"
          ],
          "name": "stdout"
        }
      ]
    },
    {
      "cell_type": "code",
      "metadata": {
        "id": "PMWLzPeDxWA6",
        "outputId": "8905dbd9-2973-43ea-eb1e-ab1e24d1b0ca",
        "colab": {
          "base_uri": "https://localhost:8080/",
          "height": 830
        }
      },
      "source": [
        "# train\n",
        "model.compile(loss='categorical_crossentropy', optimizer=OPTIM,\n",
        "metrics=['accuracy'])\n",
        "model.fit(X_train, Y_train, batch_size=BATCH_SIZE,\n",
        "epochs=NB_EPOCH, validation_split=VALIDATION_SPLIT,\n",
        "verbose=VERBOSE)\n",
        "score = model.evaluate(X_test, Y_test,\n",
        "batch_size=BATCH_SIZE, verbose=VERBOSE)\n",
        "print(\"Test score:\", score[0])\n",
        "print('Test accuracy:', score[1])\n"
      ],
      "execution_count": 5,
      "outputs": [
        {
          "output_type": "stream",
          "text": [
            "Epoch 1/20\n",
            "313/313 [==============================] - 66s 210ms/step - loss: 1.7580 - accuracy: 0.3814 - val_loss: 1.5072 - val_accuracy: 0.4625\n",
            "Epoch 2/20\n",
            "313/313 [==============================] - 61s 195ms/step - loss: 1.3806 - accuracy: 0.5118 - val_loss: 1.2580 - val_accuracy: 0.5617\n",
            "Epoch 3/20\n",
            "313/313 [==============================] - 62s 198ms/step - loss: 1.2504 - accuracy: 0.5564 - val_loss: 1.1933 - val_accuracy: 0.5723\n",
            "Epoch 4/20\n",
            "313/313 [==============================] - 62s 197ms/step - loss: 1.1621 - accuracy: 0.5907 - val_loss: 1.1244 - val_accuracy: 0.6103\n",
            "Epoch 5/20\n",
            "313/313 [==============================] - 62s 197ms/step - loss: 1.0951 - accuracy: 0.6133 - val_loss: 1.1791 - val_accuracy: 0.5965\n",
            "Epoch 6/20\n",
            "313/313 [==============================] - 62s 197ms/step - loss: 1.0337 - accuracy: 0.6366 - val_loss: 1.0660 - val_accuracy: 0.6308\n",
            "Epoch 7/20\n",
            "313/313 [==============================] - 62s 197ms/step - loss: 0.9855 - accuracy: 0.6563 - val_loss: 1.0467 - val_accuracy: 0.6423\n",
            "Epoch 8/20\n",
            "313/313 [==============================] - 62s 199ms/step - loss: 0.9313 - accuracy: 0.6728 - val_loss: 1.1384 - val_accuracy: 0.6105\n",
            "Epoch 9/20\n",
            "313/313 [==============================] - 62s 198ms/step - loss: 0.8966 - accuracy: 0.6865 - val_loss: 1.0732 - val_accuracy: 0.6406\n",
            "Epoch 10/20\n",
            "313/313 [==============================] - 62s 200ms/step - loss: 0.8628 - accuracy: 0.6996 - val_loss: 1.0654 - val_accuracy: 0.6420\n",
            "Epoch 11/20\n",
            "313/313 [==============================] - 62s 199ms/step - loss: 0.8223 - accuracy: 0.7137 - val_loss: 0.9996 - val_accuracy: 0.6637\n",
            "Epoch 12/20\n",
            "313/313 [==============================] - 62s 197ms/step - loss: 0.7914 - accuracy: 0.7275 - val_loss: 1.1049 - val_accuracy: 0.6332\n",
            "Epoch 13/20\n",
            "313/313 [==============================] - 62s 197ms/step - loss: 0.7676 - accuracy: 0.7348 - val_loss: 1.0701 - val_accuracy: 0.6513\n",
            "Epoch 14/20\n",
            "313/313 [==============================] - 62s 198ms/step - loss: 0.7385 - accuracy: 0.7462 - val_loss: 1.0807 - val_accuracy: 0.6448\n",
            "Epoch 15/20\n",
            "313/313 [==============================] - 62s 197ms/step - loss: 0.7115 - accuracy: 0.7548 - val_loss: 1.0324 - val_accuracy: 0.6729\n",
            "Epoch 16/20\n",
            "313/313 [==============================] - 61s 195ms/step - loss: 0.6888 - accuracy: 0.7619 - val_loss: 1.0953 - val_accuracy: 0.6703\n",
            "Epoch 17/20\n",
            "313/313 [==============================] - 61s 195ms/step - loss: 0.6660 - accuracy: 0.7700 - val_loss: 1.0462 - val_accuracy: 0.6683\n",
            "Epoch 18/20\n",
            "313/313 [==============================] - 61s 195ms/step - loss: 0.6400 - accuracy: 0.7778 - val_loss: 1.0088 - val_accuracy: 0.6745\n",
            "Epoch 19/20\n",
            "313/313 [==============================] - 61s 195ms/step - loss: 0.6391 - accuracy: 0.7816 - val_loss: 1.0365 - val_accuracy: 0.6813\n",
            "Epoch 20/20\n",
            "313/313 [==============================] - 61s 195ms/step - loss: 0.6129 - accuracy: 0.7908 - val_loss: 1.0331 - val_accuracy: 0.6754\n",
            "79/79 [==============================] - 4s 46ms/step - loss: 1.0320 - accuracy: 0.6722\n",
            "Test score: 1.0319616794586182\n",
            "Test accuracy: 0.6722000241279602\n"
          ],
          "name": "stdout"
        }
      ]
    },
    {
      "cell_type": "code",
      "metadata": {
        "id": "hV3NAkGbxur5"
      },
      "source": [
        "#save model\n",
        "model_json = model.to_json()\n",
        "open('cifar10_architecture.json', 'w').write(model_json)\n",
        "#And the weights learned by our deep network on the training set\n",
        "model.save_weights('cifar10_weights.h5', overwrite=True)\n"
      ],
      "execution_count": 7,
      "outputs": []
    },
    {
      "cell_type": "code",
      "metadata": {
        "id": "XM21S6XZ9CS2"
      },
      "source": [
        ""
      ],
      "execution_count": null,
      "outputs": []
    },
    {
      "cell_type": "markdown",
      "metadata": {
        "id": "dPnzjYrB-H91"
      },
      "source": [
        "Improving the CIFAR-10 performance with deeper a network\n",
        "\n",
        "conv+conv+maxpool+dropout+conv+conv+maxpool\n",
        "\n",
        "Followed by a standard dense+dropout+dense\n"
      ]
    },
    {
      "cell_type": "code",
      "metadata": {
        "id": "umlyXm60-N2m"
      },
      "source": [
        "model = Sequential()\n",
        "model.add(Conv2D(32, (3, 3), padding='same',\n",
        "input_shape=(IMG_ROWS, IMG_COLS, IMG_CHANNELS)))\n",
        "model.add(Activation('relu'))\n",
        "model.add(Conv2D(32, (3, 3), padding='same'))\n",
        "model.add(Activation('relu'))\n",
        "model.add(MaxPooling2D(pool_size=(2, 2)))\n",
        "model.add(Dropout(0.25))\n",
        "model.add(Conv2D(64, (3, 3), padding='same'))\n",
        "model.add(Activation('relu'))\n",
        "model.add(Conv2D(64, 3, 3))\n",
        "model.add(Activation('relu'))\n",
        "model.add(MaxPooling2D(pool_size=(2, 2)))\n",
        "model.add(Dropout(0.25))\n",
        "model.add(Flatten())\n",
        "model.add(Dense(512))\n",
        "model.add(Activation('relu'))\n",
        "model.add(Dropout(0.5))\n",
        "model.add(Dense(NB_CLASSES))\n",
        "model.add(Activation('softmax'))\n"
      ],
      "execution_count": 6,
      "outputs": []
    },
    {
      "cell_type": "code",
      "metadata": {
        "id": "0-RE2CVW_Ygn",
        "outputId": "b05d0d22-3bbd-4d02-e7cd-b1fe73e64879",
        "colab": {
          "base_uri": "https://localhost:8080/",
          "height": 828
        }
      },
      "source": [
        "model.summary()"
      ],
      "execution_count": 7,
      "outputs": [
        {
          "output_type": "stream",
          "text": [
            "Model: \"sequential_1\"\n",
            "_________________________________________________________________\n",
            "Layer (type)                 Output Shape              Param #   \n",
            "=================================================================\n",
            "conv2d_1 (Conv2D)            (None, 32, 32, 32)        896       \n",
            "_________________________________________________________________\n",
            "activation_1 (Activation)    (None, 32, 32, 32)        0         \n",
            "_________________________________________________________________\n",
            "conv2d_2 (Conv2D)            (None, 32, 32, 32)        9248      \n",
            "_________________________________________________________________\n",
            "activation_2 (Activation)    (None, 32, 32, 32)        0         \n",
            "_________________________________________________________________\n",
            "max_pooling2d_1 (MaxPooling2 (None, 16, 16, 32)        0         \n",
            "_________________________________________________________________\n",
            "dropout_1 (Dropout)          (None, 16, 16, 32)        0         \n",
            "_________________________________________________________________\n",
            "conv2d_3 (Conv2D)            (None, 16, 16, 64)        18496     \n",
            "_________________________________________________________________\n",
            "activation_3 (Activation)    (None, 16, 16, 64)        0         \n",
            "_________________________________________________________________\n",
            "conv2d_4 (Conv2D)            (None, 5, 5, 64)          36928     \n",
            "_________________________________________________________________\n",
            "activation_4 (Activation)    (None, 5, 5, 64)          0         \n",
            "_________________________________________________________________\n",
            "max_pooling2d_2 (MaxPooling2 (None, 2, 2, 64)          0         \n",
            "_________________________________________________________________\n",
            "dropout_2 (Dropout)          (None, 2, 2, 64)          0         \n",
            "_________________________________________________________________\n",
            "flatten (Flatten)            (None, 256)               0         \n",
            "_________________________________________________________________\n",
            "dense (Dense)                (None, 512)               131584    \n",
            "_________________________________________________________________\n",
            "activation_5 (Activation)    (None, 512)               0         \n",
            "_________________________________________________________________\n",
            "dropout_3 (Dropout)          (None, 512)               0         \n",
            "_________________________________________________________________\n",
            "dense_1 (Dense)              (None, 10)                5130      \n",
            "_________________________________________________________________\n",
            "activation_6 (Activation)    (None, 10)                0         \n",
            "=================================================================\n",
            "Total params: 202,282\n",
            "Trainable params: 202,282\n",
            "Non-trainable params: 0\n",
            "_________________________________________________________________\n"
          ],
          "name": "stdout"
        }
      ]
    },
    {
      "cell_type": "code",
      "metadata": {
        "id": "tdAhSUcr_G09",
        "outputId": "f509cf81-c267-4bfb-83a9-02feae6a49f6",
        "colab": {
          "base_uri": "https://localhost:8080/",
          "height": 1000
        }
      },
      "source": [
        "# train\n",
        "NB_EPOCH = 40\n",
        "model.compile(loss='categorical_crossentropy', optimizer=OPTIM,\n",
        "metrics=['accuracy'])\n",
        "model.fit(X_train, Y_train, batch_size=BATCH_SIZE,\n",
        "epochs=NB_EPOCH, validation_split=VALIDATION_SPLIT,\n",
        "verbose=VERBOSE)\n",
        "score = model.evaluate(X_test, Y_test,\n",
        "batch_size=BATCH_SIZE, verbose=VERBOSE)\n",
        "print(\"Test score:\", score[0])\n",
        "print('Test accuracy:', score[1])"
      ],
      "execution_count": 10,
      "outputs": [
        {
          "output_type": "stream",
          "text": [
            "Epoch 1/40\n",
            "313/313 [==============================] - 144s 459ms/step - loss: 1.9524 - accuracy: 0.2723 - val_loss: 1.9860 - val_accuracy: 0.3129\n",
            "Epoch 2/40\n",
            "313/313 [==============================] - 143s 457ms/step - loss: 1.6522 - accuracy: 0.3937 - val_loss: 1.4505 - val_accuracy: 0.4704\n",
            "Epoch 3/40\n",
            "313/313 [==============================] - 143s 456ms/step - loss: 1.4965 - accuracy: 0.4515 - val_loss: 1.3397 - val_accuracy: 0.5158\n",
            "Epoch 4/40\n",
            "313/313 [==============================] - 147s 469ms/step - loss: 1.3922 - accuracy: 0.4971 - val_loss: 1.2833 - val_accuracy: 0.5348\n",
            "Epoch 5/40\n",
            "313/313 [==============================] - 143s 456ms/step - loss: 1.3176 - accuracy: 0.5245 - val_loss: 1.2631 - val_accuracy: 0.5534\n",
            "Epoch 6/40\n",
            "313/313 [==============================] - 144s 460ms/step - loss: 1.2605 - accuracy: 0.5476 - val_loss: 1.1982 - val_accuracy: 0.5764\n",
            "Epoch 7/40\n",
            "313/313 [==============================] - 143s 456ms/step - loss: 1.2078 - accuracy: 0.5673 - val_loss: 1.1818 - val_accuracy: 0.5673\n",
            "Epoch 8/40\n",
            "313/313 [==============================] - 143s 457ms/step - loss: 1.1613 - accuracy: 0.5911 - val_loss: 1.0464 - val_accuracy: 0.6312\n",
            "Epoch 9/40\n",
            "313/313 [==============================] - 146s 468ms/step - loss: 1.1246 - accuracy: 0.6019 - val_loss: 1.0837 - val_accuracy: 0.6216\n",
            "Epoch 10/40\n",
            "313/313 [==============================] - 143s 455ms/step - loss: 1.0865 - accuracy: 0.6149 - val_loss: 1.0726 - val_accuracy: 0.6187\n",
            "Epoch 11/40\n",
            "313/313 [==============================] - 142s 455ms/step - loss: 1.0621 - accuracy: 0.6251 - val_loss: 0.9897 - val_accuracy: 0.6519\n",
            "Epoch 12/40\n",
            "313/313 [==============================] - 142s 455ms/step - loss: 1.0384 - accuracy: 0.6328 - val_loss: 0.9557 - val_accuracy: 0.6625\n",
            "Epoch 13/40\n",
            "313/313 [==============================] - 146s 466ms/step - loss: 1.0104 - accuracy: 0.6409 - val_loss: 1.0349 - val_accuracy: 0.6370\n",
            "Epoch 14/40\n",
            "313/313 [==============================] - 142s 454ms/step - loss: 0.9901 - accuracy: 0.6490 - val_loss: 0.9429 - val_accuracy: 0.6683\n",
            "Epoch 15/40\n",
            "313/313 [==============================] - 142s 455ms/step - loss: 0.9658 - accuracy: 0.6600 - val_loss: 0.9115 - val_accuracy: 0.6829\n",
            "Epoch 16/40\n",
            "313/313 [==============================] - 143s 456ms/step - loss: 0.9447 - accuracy: 0.6670 - val_loss: 0.8970 - val_accuracy: 0.6942\n",
            "Epoch 17/40\n",
            "313/313 [==============================] - 143s 456ms/step - loss: 0.9348 - accuracy: 0.6718 - val_loss: 0.9670 - val_accuracy: 0.6628\n",
            "Epoch 18/40\n",
            "313/313 [==============================] - 142s 454ms/step - loss: 0.9143 - accuracy: 0.6777 - val_loss: 0.8968 - val_accuracy: 0.6930\n",
            "Epoch 19/40\n",
            "313/313 [==============================] - 142s 455ms/step - loss: 0.9006 - accuracy: 0.6819 - val_loss: 0.8845 - val_accuracy: 0.6979\n",
            "Epoch 20/40\n",
            "313/313 [==============================] - 142s 455ms/step - loss: 0.8852 - accuracy: 0.6854 - val_loss: 0.8991 - val_accuracy: 0.6964\n",
            "Epoch 21/40\n",
            "313/313 [==============================] - 142s 455ms/step - loss: 0.8721 - accuracy: 0.6929 - val_loss: 0.9736 - val_accuracy: 0.6694\n",
            "Epoch 22/40\n",
            "313/313 [==============================] - 142s 454ms/step - loss: 0.8575 - accuracy: 0.6984 - val_loss: 0.8974 - val_accuracy: 0.6883\n",
            "Epoch 23/40\n",
            "313/313 [==============================] - 142s 454ms/step - loss: 0.8496 - accuracy: 0.7006 - val_loss: 0.8402 - val_accuracy: 0.7104\n",
            "Epoch 24/40\n",
            "313/313 [==============================] - 142s 455ms/step - loss: 0.8441 - accuracy: 0.7015 - val_loss: 0.8769 - val_accuracy: 0.7034\n",
            "Epoch 25/40\n",
            "313/313 [==============================] - 143s 457ms/step - loss: 0.8303 - accuracy: 0.7078 - val_loss: 0.9038 - val_accuracy: 0.6947\n",
            "Epoch 26/40\n",
            "313/313 [==============================] - 143s 458ms/step - loss: 0.8267 - accuracy: 0.7108 - val_loss: 0.8712 - val_accuracy: 0.7013\n",
            "Epoch 27/40\n",
            "313/313 [==============================] - 143s 457ms/step - loss: 0.8106 - accuracy: 0.7140 - val_loss: 0.8260 - val_accuracy: 0.7141\n",
            "Epoch 28/40\n",
            "313/313 [==============================] - 143s 457ms/step - loss: 0.8070 - accuracy: 0.7146 - val_loss: 0.8689 - val_accuracy: 0.7057\n",
            "Epoch 29/40\n",
            "313/313 [==============================] - 143s 457ms/step - loss: 0.8043 - accuracy: 0.7175 - val_loss: 0.8761 - val_accuracy: 0.7027\n",
            "Epoch 30/40\n",
            "313/313 [==============================] - 143s 456ms/step - loss: 0.7970 - accuracy: 0.7205 - val_loss: 0.8356 - val_accuracy: 0.7166\n",
            "Epoch 31/40\n",
            "313/313 [==============================] - 143s 456ms/step - loss: 0.7897 - accuracy: 0.7225 - val_loss: 0.8400 - val_accuracy: 0.7121\n",
            "Epoch 32/40\n",
            "313/313 [==============================] - 143s 456ms/step - loss: 0.7869 - accuracy: 0.7271 - val_loss: 0.8516 - val_accuracy: 0.7138\n",
            "Epoch 33/40\n",
            "313/313 [==============================] - 143s 457ms/step - loss: 0.7786 - accuracy: 0.7296 - val_loss: 0.7900 - val_accuracy: 0.7349\n",
            "Epoch 34/40\n",
            "313/313 [==============================] - 143s 456ms/step - loss: 0.7677 - accuracy: 0.7303 - val_loss: 0.8321 - val_accuracy: 0.7105\n",
            "Epoch 35/40\n",
            "313/313 [==============================] - 143s 456ms/step - loss: 0.7715 - accuracy: 0.7304 - val_loss: 0.9519 - val_accuracy: 0.6913\n",
            "Epoch 36/40\n",
            "313/313 [==============================] - 143s 458ms/step - loss: 0.7731 - accuracy: 0.7283 - val_loss: 0.8786 - val_accuracy: 0.7038\n",
            "Epoch 37/40\n",
            "313/313 [==============================] - 143s 457ms/step - loss: 0.7660 - accuracy: 0.7323 - val_loss: 0.8337 - val_accuracy: 0.7166\n",
            "Epoch 38/40\n",
            "313/313 [==============================] - 143s 457ms/step - loss: 0.7614 - accuracy: 0.7326 - val_loss: 0.8396 - val_accuracy: 0.7169\n",
            "Epoch 39/40\n",
            "313/313 [==============================] - 142s 455ms/step - loss: 0.7530 - accuracy: 0.7350 - val_loss: 0.8079 - val_accuracy: 0.7242\n",
            "Epoch 40/40\n",
            "313/313 [==============================] - 142s 454ms/step - loss: 0.7549 - accuracy: 0.7376 - val_loss: 0.8394 - val_accuracy: 0.7110\n",
            "79/79 [==============================] - 8s 107ms/step - loss: 0.8582 - accuracy: 0.7077\n",
            "Test score: 0.8582370281219482\n",
            "Test accuracy: 0.7077000141143799\n"
          ],
          "name": "stdout"
        }
      ]
    },
    {
      "cell_type": "markdown",
      "metadata": {
        "id": "pKGYa25CAZvJ"
      },
      "source": [
        "\n",
        "Improving the CIFAR-10 performance with data augmentation\n"
      ]
    },
    {
      "cell_type": "code",
      "metadata": {
        "id": "6a50VByvAYj4",
        "outputId": "3b913b74-5c1e-4e79-d969-e436c4f34992",
        "colab": {
          "base_uri": "https://localhost:8080/",
          "height": 74
        }
      },
      "source": [
        "from keras.preprocessing.image import ImageDataGenerator\n",
        "from keras.datasets import cifar10\n",
        "import numpy as np\n",
        "NUM_TO_AUGMENT=5\n",
        "\n",
        "#load dataset\n",
        "(X_train, y_train), (X_test, y_test) = cifar10.load_data()\n",
        "\n"
      ],
      "execution_count": 1,
      "outputs": [
        {
          "output_type": "stream",
          "text": [
            "Downloading data from https://www.cs.toronto.edu/~kriz/cifar-10-python.tar.gz\n",
            "170500096/170498071 [==============================] - 11s 0us/step\n"
          ],
          "name": "stdout"
        }
      ]
    },
    {
      "cell_type": "code",
      "metadata": {
        "id": "SF2Vmpw4YIg7",
        "outputId": "d293d550-23d8-4bd3-fe66-a5e445860837",
        "colab": {
          "base_uri": "https://localhost:8080/",
          "height": 35
        }
      },
      "source": [
        "# augumenting\n",
        "print(\"Augmenting training set images...\")\n",
        "datagen = ImageDataGenerator(\n",
        "featurewise_center=False,\n",
        "# set each sample mean to 0\n",
        "samplewise_center=False,\n",
        "# divide inputs by std of dataset\n",
        "featurewise_std_normalization=False,\n",
        "# divide each input by its std\n",
        "samplewise_std_normalization=False,\n",
        "# apply ZCA whitening\n",
        "zca_whitening=False,\n",
        "# epsilon for ZCA whitening\n",
        "zca_epsilon=1e-06,\n",
        "# randomly rotate images in the range (deg 0 to 180)\n",
        "rotation_range=0,\n",
        "# randomly shift images horizontally\n",
        "width_shift_range=0.1,\n",
        "# randomly shift images vertically\n",
        "height_shift_range=0.1,\n",
        "# set range for random shear\n",
        "shear_range=0.,\n",
        "# set range for random zoom\n",
        "zoom_range=0.,\n",
        "# set range for random channel shifts\n",
        "channel_shift_range=0.,\n",
        "# set mode for filling points outside the input boundaries\n",
        "fill_mode='nearest',\n",
        "# value used for fill_mode = \"constant\"\n",
        "cval=0.,\n",
        "# randomly flip images\n",
        "horizontal_flip=True,\n",
        "# randomly flip images\n",
        "vertical_flip=False,\n",
        "# set rescaling factor (applied before any other transformation)\n",
        "rescale=None,\n",
        "# set function that will be applied on each input\n",
        "preprocessing_function=None,\n",
        "# image data format, either \"channels_first\" or \"c\n",
        "data_format=\"channels_last\"\n",
        ")\n",
        "\n",
        "\n",
        "datagen.fit(X_train)\n",
        "NB_EPOCH=50\n",
        "\n",
        "\n",
        "\n",
        "\n",
        "\n",
        "\n",
        "\n",
        "# rotation_range=40,\n",
        "# width_shift_range=0.2,\n",
        "# height_shift_range=0.2,\n",
        "# zoom_range=0.2,\n",
        "# horizontal_flip=True,\n",
        "# fill_mode='nearest'        "
      ],
      "execution_count": 8,
      "outputs": [
        {
          "output_type": "stream",
          "text": [
            "Augmenting training set images...\n"
          ],
          "name": "stdout"
        }
      ]
    },
    {
      "cell_type": "code",
      "metadata": {
        "id": "DYzAgCQxgj1e",
        "outputId": "6926bae7-48ea-49de-f6ef-b1eae655db44",
        "colab": {
          "base_uri": "https://localhost:8080/",
          "height": 1000
        }
      },
      "source": [
        "# xtas, ytas = [], []\n",
        "# for i in range(X_train.shape[0]):\n",
        "#   num_aug = 0\n",
        "#   x = X_train[i] # (3, 32, 32)\n",
        "#   x = x.reshape((1,) + x.shape) # (1, 3, 32, 32)\n",
        "# for x_aug in datagen.flow(x, batch_size=1,save_prefix='cifar', save_format='jpeg'):\n",
        "#   if num_aug >= NUM_TO_AUGMENT:\n",
        "#     break\n",
        "#   xtas.append(x_aug[0])\n",
        "#   num_aug += 1\n",
        "\n",
        "\n",
        "#fit the dataget\n",
        "\n",
        "# train\n",
        "model.compile(loss='categorical_crossentropy', optimizer=OPTIM,\n",
        "metrics=['accuracy'])\n",
        "history = model.fit_generator(datagen.flow(X_train, Y_train,\n",
        "batch_size=BATCH_SIZE),\n",
        "epochs=NB_EPOCH, verbose=VERBOSE)\n",
        "score = model.evaluate(X_test, Y_test,\n",
        "batch_size=BATCH_SIZE, verbose=VERBOSE)\n",
        "print(\"Test score:\", score[0])\n",
        "print('Test accuracy:', score[1])"
      ],
      "execution_count": 9,
      "outputs": [
        {
          "output_type": "stream",
          "text": [
            "WARNING:tensorflow:From <ipython-input-9-f17cf9236540>:20: Model.fit_generator (from tensorflow.python.keras.engine.training) is deprecated and will be removed in a future version.\n",
            "Instructions for updating:\n",
            "Please use Model.fit, which supports generators.\n",
            "Epoch 1/50\n",
            "391/391 [==============================] - 31s 79ms/step - loss: 1.9571 - accuracy: 0.2755\n",
            "Epoch 2/50\n",
            "391/391 [==============================] - 31s 79ms/step - loss: 1.6673 - accuracy: 0.3859\n",
            "Epoch 3/50\n",
            "391/391 [==============================] - 31s 79ms/step - loss: 1.5264 - accuracy: 0.4400\n",
            "Epoch 4/50\n",
            "391/391 [==============================] - 31s 80ms/step - loss: 1.4335 - accuracy: 0.4820\n",
            "Epoch 5/50\n",
            "391/391 [==============================] - 31s 79ms/step - loss: 1.3595 - accuracy: 0.5112\n",
            "Epoch 6/50\n",
            "391/391 [==============================] - 31s 79ms/step - loss: 1.3064 - accuracy: 0.5324\n",
            "Epoch 7/50\n",
            "391/391 [==============================] - 31s 80ms/step - loss: 1.2563 - accuracy: 0.5555\n",
            "Epoch 8/50\n",
            "391/391 [==============================] - 32s 81ms/step - loss: 1.2156 - accuracy: 0.5720\n",
            "Epoch 9/50\n",
            "391/391 [==============================] - 31s 80ms/step - loss: 1.1893 - accuracy: 0.5774\n",
            "Epoch 10/50\n",
            "391/391 [==============================] - 31s 80ms/step - loss: 1.1536 - accuracy: 0.5910\n",
            "Epoch 11/50\n",
            "391/391 [==============================] - 31s 80ms/step - loss: 1.1278 - accuracy: 0.6038\n",
            "Epoch 12/50\n",
            "391/391 [==============================] - 31s 79ms/step - loss: 1.1058 - accuracy: 0.6103\n",
            "Epoch 13/50\n",
            "391/391 [==============================] - 31s 79ms/step - loss: 1.0905 - accuracy: 0.6156\n",
            "Epoch 14/50\n",
            "391/391 [==============================] - 31s 79ms/step - loss: 1.0707 - accuracy: 0.6247\n",
            "Epoch 15/50\n",
            "391/391 [==============================] - 31s 80ms/step - loss: 1.0586 - accuracy: 0.6300\n",
            "Epoch 16/50\n",
            "391/391 [==============================] - 31s 80ms/step - loss: 1.0411 - accuracy: 0.6361\n",
            "Epoch 17/50\n",
            "391/391 [==============================] - 31s 79ms/step - loss: 1.0330 - accuracy: 0.6408\n",
            "Epoch 18/50\n",
            "391/391 [==============================] - 31s 80ms/step - loss: 1.0246 - accuracy: 0.6457\n",
            "Epoch 19/50\n",
            "391/391 [==============================] - 31s 79ms/step - loss: 1.0123 - accuracy: 0.6439\n",
            "Epoch 20/50\n",
            "391/391 [==============================] - 31s 79ms/step - loss: 1.0087 - accuracy: 0.6493\n",
            "Epoch 21/50\n",
            "391/391 [==============================] - 31s 79ms/step - loss: 0.9999 - accuracy: 0.6533\n",
            "Epoch 22/50\n",
            "391/391 [==============================] - 31s 79ms/step - loss: 0.9927 - accuracy: 0.6555\n",
            "Epoch 23/50\n",
            "391/391 [==============================] - 31s 80ms/step - loss: 0.9847 - accuracy: 0.6580\n",
            "Epoch 24/50\n",
            "391/391 [==============================] - 31s 80ms/step - loss: 0.9801 - accuracy: 0.6610\n",
            "Epoch 25/50\n",
            "391/391 [==============================] - 31s 79ms/step - loss: 0.9756 - accuracy: 0.6609\n",
            "Epoch 26/50\n",
            "391/391 [==============================] - 31s 79ms/step - loss: 0.9660 - accuracy: 0.6672\n",
            "Epoch 27/50\n",
            "391/391 [==============================] - 31s 80ms/step - loss: 0.9727 - accuracy: 0.6639\n",
            "Epoch 28/50\n",
            "391/391 [==============================] - 31s 79ms/step - loss: 0.9689 - accuracy: 0.6655\n",
            "Epoch 29/50\n",
            "391/391 [==============================] - 31s 78ms/step - loss: 0.9661 - accuracy: 0.6680\n",
            "Epoch 30/50\n",
            "391/391 [==============================] - 30s 77ms/step - loss: 0.9572 - accuracy: 0.6682\n",
            "Epoch 31/50\n",
            "391/391 [==============================] - 30s 77ms/step - loss: 0.9488 - accuracy: 0.6726\n",
            "Epoch 32/50\n",
            "391/391 [==============================] - 30s 78ms/step - loss: 0.9545 - accuracy: 0.6685\n",
            "Epoch 33/50\n",
            "391/391 [==============================] - 31s 79ms/step - loss: 0.9523 - accuracy: 0.6721\n",
            "Epoch 34/50\n",
            "391/391 [==============================] - 30s 78ms/step - loss: 0.9502 - accuracy: 0.6750\n",
            "Epoch 35/50\n",
            "391/391 [==============================] - 30s 78ms/step - loss: 0.9496 - accuracy: 0.6760\n",
            "Epoch 36/50\n",
            "391/391 [==============================] - 30s 77ms/step - loss: 0.9511 - accuracy: 0.6752\n",
            "Epoch 37/50\n",
            "391/391 [==============================] - 31s 79ms/step - loss: 0.9433 - accuracy: 0.6769\n",
            "Epoch 38/50\n",
            "391/391 [==============================] - 32s 81ms/step - loss: 0.9465 - accuracy: 0.6781\n",
            "Epoch 39/50\n",
            "391/391 [==============================] - 31s 81ms/step - loss: 0.9452 - accuracy: 0.6784\n",
            "Epoch 40/50\n",
            "391/391 [==============================] - 31s 80ms/step - loss: 0.9414 - accuracy: 0.6778\n",
            "Epoch 41/50\n",
            "391/391 [==============================] - 31s 80ms/step - loss: 0.9387 - accuracy: 0.6816\n",
            "Epoch 42/50\n",
            "391/391 [==============================] - 31s 80ms/step - loss: 0.9432 - accuracy: 0.6777\n",
            "Epoch 43/50\n",
            "391/391 [==============================] - 31s 79ms/step - loss: 0.9380 - accuracy: 0.6796\n",
            "Epoch 44/50\n",
            "391/391 [==============================] - 31s 80ms/step - loss: 0.9321 - accuracy: 0.6807\n",
            "Epoch 45/50\n",
            "391/391 [==============================] - 31s 80ms/step - loss: 0.9419 - accuracy: 0.6800\n",
            "Epoch 46/50\n",
            "391/391 [==============================] - 31s 78ms/step - loss: 0.9434 - accuracy: 0.6805\n",
            "Epoch 47/50\n",
            "391/391 [==============================] - 31s 79ms/step - loss: 0.9403 - accuracy: 0.6822\n",
            "Epoch 48/50\n",
            "391/391 [==============================] - 31s 80ms/step - loss: 0.9389 - accuracy: 0.6803\n",
            "Epoch 49/50\n",
            "391/391 [==============================] - 31s 79ms/step - loss: 0.9457 - accuracy: 0.6816\n",
            "Epoch 50/50\n",
            "391/391 [==============================] - 31s 79ms/step - loss: 0.9329 - accuracy: 0.6845\n",
            "79/79 [==============================] - 1s 9ms/step - loss: 0.8900 - accuracy: 0.6956\n",
            "Test score: 0.889959454536438\n",
            "Test accuracy: 0.6955999732017517\n"
          ],
          "name": "stdout"
        }
      ]
    }
  ]
}