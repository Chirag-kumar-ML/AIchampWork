{
 "cells": [
  {
   "cell_type": "code",
   "execution_count": 35,
   "metadata": {
    "colab": {},
    "colab_type": "code",
    "id": "qS2-df2KpIM8"
   },
   "outputs": [],
   "source": [
    "import os\n",
    "import pandas as pd\n",
    "import requests\n",
    "from bs4 import BeautifulSoup"
   ]
  },
  {
   "cell_type": "code",
   "execution_count": 36,
   "metadata": {
    "colab": {},
    "colab_type": "code",
    "id": "wLoboioQpINT"
   },
   "outputs": [],
   "source": [
    "WEBSITE = \"http://books.toscrape.com/\""
   ]
  },
  {
   "cell_type": "code",
   "execution_count": 37,
   "metadata": {
    "colab": {
     "base_uri": "https://localhost:8080/",
     "height": 187
    },
    "colab_type": "code",
    "id": "GTP69nd4pINj",
    "outputId": "4ce46bd1-1100-42b6-c297-5104c671ee5e"
   },
   "outputs": [],
   "source": [
    "html_content = requests.get(WEBSITE).text\n",
    "#html_content"
   ]
  },
  {
   "cell_type": "code",
   "execution_count": 38,
   "metadata": {
    "colab": {},
    "colab_type": "code",
    "id": "lMnB4p-fpINy"
   },
   "outputs": [],
   "source": [
    "soup = BeautifulSoup(html_content)"
   ]
  },
  {
   "cell_type": "code",
   "execution_count": 39,
   "metadata": {
    "colab": {},
    "colab_type": "code",
    "id": "lMuQFP7DpIN8"
   },
   "outputs": [],
   "source": [
    "side_categories = soup.find(\"ul\", class_=\"nav nav-list\")\n",
    "\n",
    "list_items = side_categories.find_all(\"a\")\n",
    "#print(list_items)\n",
    "\n",
    "cat_names = []\n",
    "cat_links = []\n",
    "\n",
    "for item in list_items:\n",
    "    cat_names.append(item.text.strip())\n",
    "    cat_links.append(item['href'])"
   ]
  },
  {
   "cell_type": "code",
   "execution_count": 40,
   "metadata": {
    "colab": {
     "base_uri": "https://localhost:8080/",
     "height": 1000
    },
    "colab_type": "code",
    "id": "bYnakVeGpIOH",
    "outputId": "c48b57be-0ece-4187-91f0-9b0905909fcd"
   },
   "outputs": [
    {
     "data": {
      "text/html": [
       "<div>\n",
       "<style scoped>\n",
       "    .dataframe tbody tr th:only-of-type {\n",
       "        vertical-align: middle;\n",
       "    }\n",
       "\n",
       "    .dataframe tbody tr th {\n",
       "        vertical-align: top;\n",
       "    }\n",
       "\n",
       "    .dataframe thead th {\n",
       "        text-align: right;\n",
       "    }\n",
       "</style>\n",
       "<table border=\"1\" class=\"dataframe\">\n",
       "  <thead>\n",
       "    <tr style=\"text-align: right;\">\n",
       "      <th></th>\n",
       "      <th>category_name</th>\n",
       "      <th>category_link</th>\n",
       "    </tr>\n",
       "  </thead>\n",
       "  <tbody>\n",
       "    <tr>\n",
       "      <td>0</td>\n",
       "      <td>Books</td>\n",
       "      <td>catalogue/category/books_1/index.html</td>\n",
       "    </tr>\n",
       "    <tr>\n",
       "      <td>1</td>\n",
       "      <td>Travel</td>\n",
       "      <td>catalogue/category/books/travel_2/index.html</td>\n",
       "    </tr>\n",
       "    <tr>\n",
       "      <td>2</td>\n",
       "      <td>Mystery</td>\n",
       "      <td>catalogue/category/books/mystery_3/index.html</td>\n",
       "    </tr>\n",
       "    <tr>\n",
       "      <td>3</td>\n",
       "      <td>Historical Fiction</td>\n",
       "      <td>catalogue/category/books/historical-fiction_4/...</td>\n",
       "    </tr>\n",
       "    <tr>\n",
       "      <td>4</td>\n",
       "      <td>Sequential Art</td>\n",
       "      <td>catalogue/category/books/sequential-art_5/inde...</td>\n",
       "    </tr>\n",
       "    <tr>\n",
       "      <td>5</td>\n",
       "      <td>Classics</td>\n",
       "      <td>catalogue/category/books/classics_6/index.html</td>\n",
       "    </tr>\n",
       "    <tr>\n",
       "      <td>6</td>\n",
       "      <td>Philosophy</td>\n",
       "      <td>catalogue/category/books/philosophy_7/index.html</td>\n",
       "    </tr>\n",
       "    <tr>\n",
       "      <td>7</td>\n",
       "      <td>Romance</td>\n",
       "      <td>catalogue/category/books/romance_8/index.html</td>\n",
       "    </tr>\n",
       "    <tr>\n",
       "      <td>8</td>\n",
       "      <td>Womens Fiction</td>\n",
       "      <td>catalogue/category/books/womens-fiction_9/inde...</td>\n",
       "    </tr>\n",
       "    <tr>\n",
       "      <td>9</td>\n",
       "      <td>Fiction</td>\n",
       "      <td>catalogue/category/books/fiction_10/index.html</td>\n",
       "    </tr>\n",
       "    <tr>\n",
       "      <td>10</td>\n",
       "      <td>Childrens</td>\n",
       "      <td>catalogue/category/books/childrens_11/index.html</td>\n",
       "    </tr>\n",
       "    <tr>\n",
       "      <td>11</td>\n",
       "      <td>Religion</td>\n",
       "      <td>catalogue/category/books/religion_12/index.html</td>\n",
       "    </tr>\n",
       "    <tr>\n",
       "      <td>12</td>\n",
       "      <td>Nonfiction</td>\n",
       "      <td>catalogue/category/books/nonfiction_13/index.html</td>\n",
       "    </tr>\n",
       "    <tr>\n",
       "      <td>13</td>\n",
       "      <td>Music</td>\n",
       "      <td>catalogue/category/books/music_14/index.html</td>\n",
       "    </tr>\n",
       "    <tr>\n",
       "      <td>14</td>\n",
       "      <td>Default</td>\n",
       "      <td>catalogue/category/books/default_15/index.html</td>\n",
       "    </tr>\n",
       "    <tr>\n",
       "      <td>15</td>\n",
       "      <td>Science Fiction</td>\n",
       "      <td>catalogue/category/books/science-fiction_16/in...</td>\n",
       "    </tr>\n",
       "    <tr>\n",
       "      <td>16</td>\n",
       "      <td>Sports and Games</td>\n",
       "      <td>catalogue/category/books/sports-and-games_17/i...</td>\n",
       "    </tr>\n",
       "    <tr>\n",
       "      <td>17</td>\n",
       "      <td>Add a comment</td>\n",
       "      <td>catalogue/category/books/add-a-comment_18/inde...</td>\n",
       "    </tr>\n",
       "    <tr>\n",
       "      <td>18</td>\n",
       "      <td>Fantasy</td>\n",
       "      <td>catalogue/category/books/fantasy_19/index.html</td>\n",
       "    </tr>\n",
       "    <tr>\n",
       "      <td>19</td>\n",
       "      <td>New Adult</td>\n",
       "      <td>catalogue/category/books/new-adult_20/index.html</td>\n",
       "    </tr>\n",
       "    <tr>\n",
       "      <td>20</td>\n",
       "      <td>Young Adult</td>\n",
       "      <td>catalogue/category/books/young-adult_21/index....</td>\n",
       "    </tr>\n",
       "    <tr>\n",
       "      <td>21</td>\n",
       "      <td>Science</td>\n",
       "      <td>catalogue/category/books/science_22/index.html</td>\n",
       "    </tr>\n",
       "    <tr>\n",
       "      <td>22</td>\n",
       "      <td>Poetry</td>\n",
       "      <td>catalogue/category/books/poetry_23/index.html</td>\n",
       "    </tr>\n",
       "    <tr>\n",
       "      <td>23</td>\n",
       "      <td>Paranormal</td>\n",
       "      <td>catalogue/category/books/paranormal_24/index.html</td>\n",
       "    </tr>\n",
       "    <tr>\n",
       "      <td>24</td>\n",
       "      <td>Art</td>\n",
       "      <td>catalogue/category/books/art_25/index.html</td>\n",
       "    </tr>\n",
       "    <tr>\n",
       "      <td>25</td>\n",
       "      <td>Psychology</td>\n",
       "      <td>catalogue/category/books/psychology_26/index.html</td>\n",
       "    </tr>\n",
       "    <tr>\n",
       "      <td>26</td>\n",
       "      <td>Autobiography</td>\n",
       "      <td>catalogue/category/books/autobiography_27/inde...</td>\n",
       "    </tr>\n",
       "    <tr>\n",
       "      <td>27</td>\n",
       "      <td>Parenting</td>\n",
       "      <td>catalogue/category/books/parenting_28/index.html</td>\n",
       "    </tr>\n",
       "    <tr>\n",
       "      <td>28</td>\n",
       "      <td>Adult Fiction</td>\n",
       "      <td>catalogue/category/books/adult-fiction_29/inde...</td>\n",
       "    </tr>\n",
       "    <tr>\n",
       "      <td>29</td>\n",
       "      <td>Humor</td>\n",
       "      <td>catalogue/category/books/humor_30/index.html</td>\n",
       "    </tr>\n",
       "    <tr>\n",
       "      <td>30</td>\n",
       "      <td>Horror</td>\n",
       "      <td>catalogue/category/books/horror_31/index.html</td>\n",
       "    </tr>\n",
       "    <tr>\n",
       "      <td>31</td>\n",
       "      <td>History</td>\n",
       "      <td>catalogue/category/books/history_32/index.html</td>\n",
       "    </tr>\n",
       "    <tr>\n",
       "      <td>32</td>\n",
       "      <td>Food and Drink</td>\n",
       "      <td>catalogue/category/books/food-and-drink_33/ind...</td>\n",
       "    </tr>\n",
       "    <tr>\n",
       "      <td>33</td>\n",
       "      <td>Christian Fiction</td>\n",
       "      <td>catalogue/category/books/christian-fiction_34/...</td>\n",
       "    </tr>\n",
       "    <tr>\n",
       "      <td>34</td>\n",
       "      <td>Business</td>\n",
       "      <td>catalogue/category/books/business_35/index.html</td>\n",
       "    </tr>\n",
       "    <tr>\n",
       "      <td>35</td>\n",
       "      <td>Biography</td>\n",
       "      <td>catalogue/category/books/biography_36/index.html</td>\n",
       "    </tr>\n",
       "    <tr>\n",
       "      <td>36</td>\n",
       "      <td>Thriller</td>\n",
       "      <td>catalogue/category/books/thriller_37/index.html</td>\n",
       "    </tr>\n",
       "    <tr>\n",
       "      <td>37</td>\n",
       "      <td>Contemporary</td>\n",
       "      <td>catalogue/category/books/contemporary_38/index...</td>\n",
       "    </tr>\n",
       "    <tr>\n",
       "      <td>38</td>\n",
       "      <td>Spirituality</td>\n",
       "      <td>catalogue/category/books/spirituality_39/index...</td>\n",
       "    </tr>\n",
       "    <tr>\n",
       "      <td>39</td>\n",
       "      <td>Academic</td>\n",
       "      <td>catalogue/category/books/academic_40/index.html</td>\n",
       "    </tr>\n",
       "    <tr>\n",
       "      <td>40</td>\n",
       "      <td>Self Help</td>\n",
       "      <td>catalogue/category/books/self-help_41/index.html</td>\n",
       "    </tr>\n",
       "    <tr>\n",
       "      <td>41</td>\n",
       "      <td>Historical</td>\n",
       "      <td>catalogue/category/books/historical_42/index.html</td>\n",
       "    </tr>\n",
       "    <tr>\n",
       "      <td>42</td>\n",
       "      <td>Christian</td>\n",
       "      <td>catalogue/category/books/christian_43/index.html</td>\n",
       "    </tr>\n",
       "    <tr>\n",
       "      <td>43</td>\n",
       "      <td>Suspense</td>\n",
       "      <td>catalogue/category/books/suspense_44/index.html</td>\n",
       "    </tr>\n",
       "    <tr>\n",
       "      <td>44</td>\n",
       "      <td>Short Stories</td>\n",
       "      <td>catalogue/category/books/short-stories_45/inde...</td>\n",
       "    </tr>\n",
       "    <tr>\n",
       "      <td>45</td>\n",
       "      <td>Novels</td>\n",
       "      <td>catalogue/category/books/novels_46/index.html</td>\n",
       "    </tr>\n",
       "    <tr>\n",
       "      <td>46</td>\n",
       "      <td>Health</td>\n",
       "      <td>catalogue/category/books/health_47/index.html</td>\n",
       "    </tr>\n",
       "    <tr>\n",
       "      <td>47</td>\n",
       "      <td>Politics</td>\n",
       "      <td>catalogue/category/books/politics_48/index.html</td>\n",
       "    </tr>\n",
       "    <tr>\n",
       "      <td>48</td>\n",
       "      <td>Cultural</td>\n",
       "      <td>catalogue/category/books/cultural_49/index.html</td>\n",
       "    </tr>\n",
       "    <tr>\n",
       "      <td>49</td>\n",
       "      <td>Erotica</td>\n",
       "      <td>catalogue/category/books/erotica_50/index.html</td>\n",
       "    </tr>\n",
       "    <tr>\n",
       "      <td>50</td>\n",
       "      <td>Crime</td>\n",
       "      <td>catalogue/category/books/crime_51/index.html</td>\n",
       "    </tr>\n",
       "  </tbody>\n",
       "</table>\n",
       "</div>"
      ],
      "text/plain": [
       "         category_name                                      category_link\n",
       "0                Books              catalogue/category/books_1/index.html\n",
       "1               Travel       catalogue/category/books/travel_2/index.html\n",
       "2              Mystery      catalogue/category/books/mystery_3/index.html\n",
       "3   Historical Fiction  catalogue/category/books/historical-fiction_4/...\n",
       "4       Sequential Art  catalogue/category/books/sequential-art_5/inde...\n",
       "5             Classics     catalogue/category/books/classics_6/index.html\n",
       "6           Philosophy   catalogue/category/books/philosophy_7/index.html\n",
       "7              Romance      catalogue/category/books/romance_8/index.html\n",
       "8       Womens Fiction  catalogue/category/books/womens-fiction_9/inde...\n",
       "9              Fiction     catalogue/category/books/fiction_10/index.html\n",
       "10           Childrens   catalogue/category/books/childrens_11/index.html\n",
       "11            Religion    catalogue/category/books/religion_12/index.html\n",
       "12          Nonfiction  catalogue/category/books/nonfiction_13/index.html\n",
       "13               Music       catalogue/category/books/music_14/index.html\n",
       "14             Default     catalogue/category/books/default_15/index.html\n",
       "15     Science Fiction  catalogue/category/books/science-fiction_16/in...\n",
       "16    Sports and Games  catalogue/category/books/sports-and-games_17/i...\n",
       "17       Add a comment  catalogue/category/books/add-a-comment_18/inde...\n",
       "18             Fantasy     catalogue/category/books/fantasy_19/index.html\n",
       "19           New Adult   catalogue/category/books/new-adult_20/index.html\n",
       "20         Young Adult  catalogue/category/books/young-adult_21/index....\n",
       "21             Science     catalogue/category/books/science_22/index.html\n",
       "22              Poetry      catalogue/category/books/poetry_23/index.html\n",
       "23          Paranormal  catalogue/category/books/paranormal_24/index.html\n",
       "24                 Art         catalogue/category/books/art_25/index.html\n",
       "25          Psychology  catalogue/category/books/psychology_26/index.html\n",
       "26       Autobiography  catalogue/category/books/autobiography_27/inde...\n",
       "27           Parenting   catalogue/category/books/parenting_28/index.html\n",
       "28       Adult Fiction  catalogue/category/books/adult-fiction_29/inde...\n",
       "29               Humor       catalogue/category/books/humor_30/index.html\n",
       "30              Horror      catalogue/category/books/horror_31/index.html\n",
       "31             History     catalogue/category/books/history_32/index.html\n",
       "32      Food and Drink  catalogue/category/books/food-and-drink_33/ind...\n",
       "33   Christian Fiction  catalogue/category/books/christian-fiction_34/...\n",
       "34            Business    catalogue/category/books/business_35/index.html\n",
       "35           Biography   catalogue/category/books/biography_36/index.html\n",
       "36            Thriller    catalogue/category/books/thriller_37/index.html\n",
       "37        Contemporary  catalogue/category/books/contemporary_38/index...\n",
       "38        Spirituality  catalogue/category/books/spirituality_39/index...\n",
       "39            Academic    catalogue/category/books/academic_40/index.html\n",
       "40           Self Help   catalogue/category/books/self-help_41/index.html\n",
       "41          Historical  catalogue/category/books/historical_42/index.html\n",
       "42           Christian   catalogue/category/books/christian_43/index.html\n",
       "43            Suspense    catalogue/category/books/suspense_44/index.html\n",
       "44       Short Stories  catalogue/category/books/short-stories_45/inde...\n",
       "45              Novels      catalogue/category/books/novels_46/index.html\n",
       "46              Health      catalogue/category/books/health_47/index.html\n",
       "47            Politics    catalogue/category/books/politics_48/index.html\n",
       "48            Cultural    catalogue/category/books/cultural_49/index.html\n",
       "49             Erotica     catalogue/category/books/erotica_50/index.html\n",
       "50               Crime       catalogue/category/books/crime_51/index.html"
      ]
     },
     "execution_count": 40,
     "metadata": {},
     "output_type": "execute_result"
    }
   ],
   "source": [
    "df = pd.DataFrame({\n",
    "    \"category_name\": cat_names,\n",
    "    \"category_link\": cat_links\n",
    "})\n",
    "\n",
    "df"
   ]
  },
  {
   "cell_type": "code",
   "execution_count": 41,
   "metadata": {
    "colab": {},
    "colab_type": "code",
    "id": "Pq1NA8gIpIOR"
   },
   "outputs": [],
   "source": [
    "ol_row = soup.find(\"ol\", class_=\"row\")"
   ]
  },
  {
   "cell_type": "code",
   "execution_count": 42,
   "metadata": {
    "colab": {},
    "colab_type": "code",
    "id": "8TFZbJxjpIOY"
   },
   "outputs": [],
   "source": [
    "scraped_book_names = []\n",
    "scraped_book_prices = []\n",
    "Availability=[]\n",
    "Ratings=[]\n",
    "product_desc=[]\n",
    "\n",
    "\n",
    "books = ol_row.find_all(\"li\")\n",
    "\n",
    "for book in books:\n",
    "    try:\n",
    "        name = book.find('h3').contents[0]['title']\n",
    "        price = book.find('p', class_='price_color').text.strip()\n",
    "        ratings = book.find('p').get('class')[1]\n",
    "        availablity = book.find('div',class_ = 'product_price').find('p',class_ = 'instock availability').text\n",
    "        linkt=book.find('div',class_='image_container').find_all('a')\n",
    "        for i in linkt:\n",
    "            product_desc.append(\"http://books.toscrape.com/\"+i['href'])\n",
    "        scraped_book_names.append(name)\n",
    "        scraped_book_prices.append(price)\n",
    "        Availability.append(ratings)\n",
    "        Ratings.append(availablity)\n",
    "        #product_desc.append(pd['href'])\n",
    "    except Exception as e:\n",
    "        print(\"Error\")\n",
    "        pass"
   ]
  },
  {
   "cell_type": "code",
   "execution_count": 45,
   "metadata": {},
   "outputs": [],
   "source": [
    "#print(product_desc)    "
   ]
  },
  {
   "cell_type": "code",
   "execution_count": 43,
   "metadata": {
    "colab": {
     "base_uri": "https://localhost:8080/",
     "height": 206
    },
    "colab_type": "code",
    "id": "261z7OVYpIOh",
    "outputId": "a3a26d9a-f830-4077-b628-7b2f73727287"
   },
   "outputs": [
    {
     "data": {
      "text/html": [
       "<div>\n",
       "<style scoped>\n",
       "    .dataframe tbody tr th:only-of-type {\n",
       "        vertical-align: middle;\n",
       "    }\n",
       "\n",
       "    .dataframe tbody tr th {\n",
       "        vertical-align: top;\n",
       "    }\n",
       "\n",
       "    .dataframe thead th {\n",
       "        text-align: right;\n",
       "    }\n",
       "</style>\n",
       "<table border=\"1\" class=\"dataframe\">\n",
       "  <thead>\n",
       "    <tr style=\"text-align: right;\">\n",
       "      <th></th>\n",
       "      <th>name</th>\n",
       "      <th>price</th>\n",
       "    </tr>\n",
       "  </thead>\n",
       "  <tbody>\n",
       "    <tr>\n",
       "      <td>0</td>\n",
       "      <td>A Light in the Attic</td>\n",
       "      <td>Â£51.77</td>\n",
       "    </tr>\n",
       "    <tr>\n",
       "      <td>1</td>\n",
       "      <td>Tipping the Velvet</td>\n",
       "      <td>Â£53.74</td>\n",
       "    </tr>\n",
       "    <tr>\n",
       "      <td>2</td>\n",
       "      <td>Soumission</td>\n",
       "      <td>Â£50.10</td>\n",
       "    </tr>\n",
       "    <tr>\n",
       "      <td>3</td>\n",
       "      <td>Sharp Objects</td>\n",
       "      <td>Â£47.82</td>\n",
       "    </tr>\n",
       "    <tr>\n",
       "      <td>4</td>\n",
       "      <td>Sapiens: A Brief History of Humankind</td>\n",
       "      <td>Â£54.23</td>\n",
       "    </tr>\n",
       "  </tbody>\n",
       "</table>\n",
       "</div>"
      ],
      "text/plain": [
       "                                    name    price\n",
       "0                   A Light in the Attic  Â£51.77\n",
       "1                     Tipping the Velvet  Â£53.74\n",
       "2                             Soumission  Â£50.10\n",
       "3                          Sharp Objects  Â£47.82\n",
       "4  Sapiens: A Brief History of Humankind  Â£54.23"
      ]
     },
     "execution_count": 43,
     "metadata": {},
     "output_type": "execute_result"
    }
   ],
   "source": [
    "df = pd.DataFrame({\n",
    "    \"name\": scraped_book_names,\n",
    "    \"price\": scraped_book_prices\n",
    "    \n",
    "})\n",
    "\n",
    "df.head()"
   ]
  },
  {
   "cell_type": "code",
   "execution_count": 46,
   "metadata": {
    "colab": {},
    "colab_type": "code",
    "id": "cvuaNnwoq1Zv"
   },
   "outputs": [],
   "source": [
    "li_row = soup.find(\"li\", class_=\"next\")"
   ]
  },
  {
   "cell_type": "code",
   "execution_count": 47,
   "metadata": {
    "colab": {},
    "colab_type": "code",
    "id": "YsNA2fwjq1LI"
   },
   "outputs": [],
   "source": [
    "\n",
    "def pages_link(n):\n",
    "    WEBSITE = n\n",
    "    html_content = requests.get(WEBSITE).text\n",
    "    #print(html_content)\n",
    "    soup = BeautifulSoup(html_content)\n",
    "    ol_row = soup.find(\"ol\", class_=\"row\")\n",
    "\n",
    "    books = ol_row.find_all(\"li\")\n",
    "\n",
    "    for book in books:\n",
    "        try:\n",
    "            name = book.find('h3').contents[0]['title']\n",
    "            price = book.find('p', class_='price_color').text.strip()\n",
    "            ratings = book.find('p').get('class')[1]\n",
    "            availablity = book.find('div',class_ = 'product_price').find('p',class_ = 'instock availability').text\n",
    "            \n",
    "            linkt=book.find('div',class_='image_container').find_all('a')\n",
    "            for i in linkt:\n",
    "                product_desc.append(\"http://books.toscrape.com/catalogue/\"+i['href'])\n",
    "            scraped_book_names.append(name)\n",
    "            scraped_book_prices.append(price)\n",
    "            Availability.append(ratings)\n",
    "            Ratings.append(availablity)\n",
    "          \n",
    "        except Exception as e:\n",
    "            print(\"Error\")\n",
    "            pass\n",
    "   "
   ]
  },
  {
   "cell_type": "code",
   "execution_count": 21,
   "metadata": {},
   "outputs": [],
   "source": [
    "#print(product_desc)"
   ]
  },
  {
   "cell_type": "code",
   "execution_count": 48,
   "metadata": {
    "colab": {},
    "colab_type": "code",
    "id": "HKiLVEBMq0ys"
   },
   "outputs": [],
   "source": [
    "pages_links=[]\n",
    "for i in range(2,51):\n",
    "    page=\"http://books.toscrape.com/\"+\"catalogue/page-\"+str(i)+\".html\"\n",
    "    pages_links.append(page)\n",
    "for i in pages_links:\n",
    "    pages_link(i)\n"
   ]
  },
  {
   "cell_type": "code",
   "execution_count": null,
   "metadata": {
    "colab": {
     "base_uri": "https://localhost:8080/",
     "height": 56
    },
    "colab_type": "code",
    "id": "lIM6InuaNfag",
    "outputId": "d8e2917f-86fc-4e9e-be63-3efb4bbc0737"
   },
   "outputs": [],
   "source": [
    "#print(scraped_book_names)"
   ]
  },
  {
   "cell_type": "code",
   "execution_count": 58,
   "metadata": {
    "colab": {
     "base_uri": "https://localhost:8080/",
     "height": 1000
    },
    "colab_type": "code",
    "id": "H-CHbOhj8vnY",
    "outputId": "3f8267a8-c25c-4af9-82ed-66a4c7bc2fbb"
   },
   "outputs": [
    {
     "name": "stdout",
     "output_type": "stream",
     "text": [
      "http://books.toscrape.com/catalogue/the-bridge-to-consciousness-im-writing-the-bridge-between-science-and-our-old-and-new-beliefs_840/index.html\n",
      "http://books.toscrape.com/catalogue/alice-in-wonderland-alices-adventures-in-wonderland-1_5/index.html\n"
     ]
    }
   ],
   "source": [
    "product_Description=[]\n",
    "\n",
    "# UPC=[]\n",
    "# Product_Type=[]\n",
    "# Tax=[]\n",
    "# Availability=[]\n",
    "# Number_of_reviews=[]\n",
    "\n",
    "for i in range(len(product_desc)):\n",
    "    try:\n",
    "        WEBSITE = product_desc[i]\n",
    "        #print(WEBSITE)\n",
    "        html_content = requests.get(WEBSITE).text\n",
    "        #print(html_content)\n",
    "        soup = BeautifulSoup(html_content)\n",
    "        para= soup.find('div',class_ = 'content').find(\"article\", class_=\"product_page\").find(\"p\",class_=\"\").text\n",
    "        product_Description.append(para)\n",
    "        #print(product_Description)\n",
    "    except:\n",
    "        product_Description.append(\"NA\")\n",
    "        print(WEBSITE)\n",
    "        continue "
   ]
  },
  {
   "cell_type": "code",
   "execution_count": 69,
   "metadata": {},
   "outputs": [
    {
     "name": "stdout",
     "output_type": "stream",
     "text": [
      "1000\n",
      "1000\n"
     ]
    }
   ],
   "source": [
    "print(len(product_desc))\n",
    "print(len(product_Description))"
   ]
  },
  {
   "cell_type": "code",
   "execution_count": 70,
   "metadata": {
    "colab": {
     "base_uri": "https://localhost:8080/",
     "height": 206
    },
    "colab_type": "code",
    "id": "AXjFkEqS5ROW",
    "outputId": "8c6430fb-4bf2-482d-cec1-394bfb41bbb4"
   },
   "outputs": [
    {
     "data": {
      "text/html": [
       "<div>\n",
       "<style scoped>\n",
       "    .dataframe tbody tr th:only-of-type {\n",
       "        vertical-align: middle;\n",
       "    }\n",
       "\n",
       "    .dataframe tbody tr th {\n",
       "        vertical-align: top;\n",
       "    }\n",
       "\n",
       "    .dataframe thead th {\n",
       "        text-align: right;\n",
       "    }\n",
       "</style>\n",
       "<table border=\"1\" class=\"dataframe\">\n",
       "  <thead>\n",
       "    <tr style=\"text-align: right;\">\n",
       "      <th></th>\n",
       "      <th>name</th>\n",
       "      <th>price</th>\n",
       "      <th>ratings</th>\n",
       "      <th>Availability</th>\n",
       "      <th>Product Description</th>\n",
       "    </tr>\n",
       "  </thead>\n",
       "  <tbody>\n",
       "    <tr>\n",
       "      <td>0</td>\n",
       "      <td>A Light in the Attic</td>\n",
       "      <td>Â£51.77</td>\n",
       "      <td>\\n\\n    \\n        In stock\\n    \\n</td>\n",
       "      <td>Three</td>\n",
       "      <td>It's hard to imagine a world without A Light i...</td>\n",
       "    </tr>\n",
       "    <tr>\n",
       "      <td>1</td>\n",
       "      <td>Tipping the Velvet</td>\n",
       "      <td>Â£53.74</td>\n",
       "      <td>\\n\\n    \\n        In stock\\n    \\n</td>\n",
       "      <td>One</td>\n",
       "      <td>\"Erotic and absorbing...Written with starling ...</td>\n",
       "    </tr>\n",
       "    <tr>\n",
       "      <td>2</td>\n",
       "      <td>Soumission</td>\n",
       "      <td>Â£50.10</td>\n",
       "      <td>\\n\\n    \\n        In stock\\n    \\n</td>\n",
       "      <td>One</td>\n",
       "      <td>Dans une France assez proche de la nÃ´tre, un ...</td>\n",
       "    </tr>\n",
       "    <tr>\n",
       "      <td>3</td>\n",
       "      <td>Sharp Objects</td>\n",
       "      <td>Â£47.82</td>\n",
       "      <td>\\n\\n    \\n        In stock\\n    \\n</td>\n",
       "      <td>Four</td>\n",
       "      <td>WICKED above her hipbone, GIRL across her hear...</td>\n",
       "    </tr>\n",
       "    <tr>\n",
       "      <td>4</td>\n",
       "      <td>Sapiens: A Brief History of Humankind</td>\n",
       "      <td>Â£54.23</td>\n",
       "      <td>\\n\\n    \\n        In stock\\n    \\n</td>\n",
       "      <td>Five</td>\n",
       "      <td>From a renowned historian comes a groundbreaki...</td>\n",
       "    </tr>\n",
       "  </tbody>\n",
       "</table>\n",
       "</div>"
      ],
      "text/plain": [
       "                                    name    price  \\\n",
       "0                   A Light in the Attic  Â£51.77   \n",
       "1                     Tipping the Velvet  Â£53.74   \n",
       "2                             Soumission  Â£50.10   \n",
       "3                          Sharp Objects  Â£47.82   \n",
       "4  Sapiens: A Brief History of Humankind  Â£54.23   \n",
       "\n",
       "                              ratings Availability  \\\n",
       "0  \\n\\n    \\n        In stock\\n    \\n        Three   \n",
       "1  \\n\\n    \\n        In stock\\n    \\n          One   \n",
       "2  \\n\\n    \\n        In stock\\n    \\n          One   \n",
       "3  \\n\\n    \\n        In stock\\n    \\n         Four   \n",
       "4  \\n\\n    \\n        In stock\\n    \\n         Five   \n",
       "\n",
       "                                 Product Description  \n",
       "0  It's hard to imagine a world without A Light i...  \n",
       "1  \"Erotic and absorbing...Written with starling ...  \n",
       "2  Dans une France assez proche de la nÃ´tre, un ...  \n",
       "3  WICKED above her hipbone, GIRL across her hear...  \n",
       "4  From a renowned historian comes a groundbreaki...  "
      ]
     },
     "execution_count": 70,
     "metadata": {},
     "output_type": "execute_result"
    }
   ],
   "source": [
    "df = pd.DataFrame({\n",
    "    \"name\": scraped_book_names,\n",
    "    \"price\": scraped_book_prices,\n",
    "    \"ratings\":Ratings,\n",
    "    \"Availability\":Availability,\n",
    "    \"Product Description\":product_Description\n",
    "   \n",
    "})\n",
    "\n",
    "df.head()"
   ]
  },
  {
   "cell_type": "code",
   "execution_count": 71,
   "metadata": {
    "colab": {
     "base_uri": "https://localhost:8080/",
     "height": 36
    },
    "colab_type": "code",
    "id": "3stb7Wsi5kLX",
    "outputId": "08a92344-5907-41a6-9899-c90996be3ff2"
   },
   "outputs": [
    {
     "data": {
      "text/plain": [
       "(1000, 5)"
      ]
     },
     "execution_count": 71,
     "metadata": {},
     "output_type": "execute_result"
    }
   ],
   "source": [
    "df.shape"
   ]
  },
  {
   "cell_type": "code",
   "execution_count": 72,
   "metadata": {
    "colab": {
     "base_uri": "https://localhost:8080/",
     "height": 350
    },
    "colab_type": "code",
    "id": "zCNL9mqrpIOp",
    "outputId": "8c94d4b4-a70e-47ae-bca5-dd6391cdab5f"
   },
   "outputs": [],
   "source": [
    "df.to_csv(r'scrap_data.csv')"
   ]
  },
  {
   "cell_type": "code",
   "execution_count": null,
   "metadata": {
    "colab": {
     "base_uri": "https://localhost:8080/",
     "height": 1000
    },
    "colab_type": "code",
    "id": "fxjjSpBDpIOy",
    "outputId": "1e4fa073-2597-4cb8-e9cc-35da9079f190"
   },
   "outputs": [],
   "source": []
  }
 ],
 "metadata": {
  "colab": {
   "name": "Scraper.ipynb",
   "provenance": []
  },
  "kernelspec": {
   "display_name": "Python 3",
   "language": "python",
   "name": "python3"
  },
  "language_info": {
   "codemirror_mode": {
    "name": "ipython",
    "version": 3
   },
   "file_extension": ".py",
   "mimetype": "text/x-python",
   "name": "python",
   "nbconvert_exporter": "python",
   "pygments_lexer": "ipython3",
   "version": "3.7.4"
  }
 },
 "nbformat": 4,
 "nbformat_minor": 1
}
