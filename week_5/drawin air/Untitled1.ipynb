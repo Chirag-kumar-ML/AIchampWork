{
 "cells": [
  {
   "cell_type": "code",
   "execution_count": 1,
   "metadata": {},
   "outputs": [
    {
     "ename": "SyntaxError",
     "evalue": "invalid syntax (<ipython-input-1-79239e679fc8>, line 8)",
     "output_type": "error",
     "traceback": [
      "\u001b[1;36m  File \u001b[1;32m\"<ipython-input-1-79239e679fc8>\"\u001b[1;36m, line \u001b[1;32m8\u001b[0m\n\u001b[1;33m    cv2.createTrackbar(\"\",\"pointer detector\",,setValues)\u001b[0m\n\u001b[1;37m                                             ^\u001b[0m\n\u001b[1;31mSyntaxError\u001b[0m\u001b[1;31m:\u001b[0m invalid syntax\n"
     ]
    }
   ],
   "source": [
    "import cv2\n",
    "import numpy as np\n",
    "from collecctions import dequeue\n",
    "\n",
    "def setValues(x):\n",
    "    print(\"value changes\")\n",
    "cv2.namedWindow(\"pointer detector\")\n",
    "cv2.createTrackbar(\"Upper hue\",\"pointer detector\",15,180,setValues)\n",
    "cv2.createTrackbar(\"Upper saturation\",\"pointer detector\",0,255,setValues)\n",
    "cv2.createTrackbar(\"Upper value\",\"pointer detector\",0,255,setValues)\n",
    "cv2.createTrackbar(\"Lower hue\",\"pointer detector\",64,180,setValues)\n",
    "cv2.createTrackbar(\"Lower saturation\",\"pointer detector\",72,255,setValues)\n",
    "cv2.createTrackbar(\"Lower value\",\"pointer detector\",49,255,setValues)\n",
    "\n",
    "bpoint"
   ]
  },
  {
   "cell_type": "code",
   "execution_count": null,
   "metadata": {},
   "outputs": [],
   "source": [
    " \n",
    "  \n",
    "\n",
    "import cv2 \n",
    "import numpy as np \n",
    " \n",
    "def setValues(): \n",
    "    pass\n",
    "   \n",
    "def main(): \n",
    "      \n",
    "    # blackwindow having 3 color chanels \n",
    "    image = np.zeros((512, 512,3), np.uint8)  \n",
    "    windowName =\"Open CV Color Palette\"\n",
    "      \n",
    "    # window name \n",
    "    cv2.namedWindow(windowName)  \n",
    "       \n",
    "    # there trackbars which have the name \n",
    "    # of trackbars min and max value  \n",
    "    cv2.namedWindow(\"Color detectors\")\n",
    "    cv2.createTrackbar(\"Upper Hue\", \"Color detectors\", 153, 180,setValues)\n",
    "    cv2.createTrackbar(\"Upper Saturation\", \"Color detectors\", 255, 255,setValues)\n",
    "    cv2.createTrackbar(\"Upper Value\", \"Color detectors\", 255, 255,setValues)\n",
    "    cv2.createTrackbar(\"Lower Hue\", \"Color detectors\", 64, 180,setValues)\n",
    "    cv2.createTrackbar(\"Lower Saturation\", \"Color detectors\", 72, 255,setValues)\n",
    "    cv2.createTrackbar(\"Lower Value\", \"Color detectors\", 49, 255,setValues)\n",
    "       \n",
    "    # till press the ESC key \n",
    "    while(True): \n",
    "        cv2.imshow(windowName, image) \n",
    "          \n",
    "        if cv2.waitKey(1) == 27: \n",
    "            break\n",
    "          \n",
    "        # values of blue, green, red \n",
    "        u_hue = cv2.getTrackbarPos(\"Upper Hue\", \"Color detectors\")\n",
    "        u_saturation = cv2.getTrackbarPos(\"Upper Saturation\", \"Color detectors\")\n",
    "        u_value = cv2.getTrackbarPos(\"Upper Value\", \"Color detectors\")\n",
    "        l_hue = cv2.getTrackbarPos(\"Lower Hue\", \"Color detectors\")\n",
    "        l_saturation = cv2.getTrackbarPos(\"Lower Saturation\", \"Color detectors\")\n",
    "        l_value = cv2.getTrackbarPos(\"Lower Value\", \"Color detectors\")\n",
    "         \n",
    "        #print(u_hue,u_saturation,u_value,l_hue,l_saturation,l_value) \n",
    "        Upper_hsv = np.array([u_hue,u_saturation,u_value])\n",
    "        Lower_hsv = np.array([l_hue,l_saturation,l_value])\n",
    "        \n",
    "        mask = cv2.inRange(image,Upper_hsv,Lower_hsv)\n",
    "       \n",
    "           \n",
    "    cv2.destroyAllWindows() \n",
    "  \n",
    "         \n",
    "if __name__==\"__main__\": \n",
    "    main() \n"
   ]
  },
  {
   "cell_type": "code",
   "execution_count": 1,
   "metadata": {},
   "outputs": [],
   "source": []
  },
  {
   "cell_type": "code",
   "execution_count": null,
   "metadata": {},
   "outputs": [],
   "source": []
  }
 ],
 "metadata": {
  "kernelspec": {
   "display_name": "Python 3",
   "language": "python",
   "name": "python3"
  },
  "language_info": {
   "codemirror_mode": {
    "name": "ipython",
    "version": 3
   },
   "file_extension": ".py",
   "mimetype": "text/x-python",
   "name": "python",
   "nbconvert_exporter": "python",
   "pygments_lexer": "ipython3",
   "version": "3.7.9"
  }
 },
 "nbformat": 4,
 "nbformat_minor": 4
}
